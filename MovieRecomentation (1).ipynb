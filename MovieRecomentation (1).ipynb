{
  "cells": [
    {
      "attachments": {},
      "cell_type": "markdown",
      "metadata": {
        "id": "Jz3KfnJgQ_wh"
      },
      "source": [
        "# Movie Collection Prediction"
      ]
    },
    {
      "attachments": {},
      "cell_type": "markdown",
      "metadata": {
        "id": "56-wMhLSRFDQ"
      },
      "source": [
        "## Import Header Pakages"
      ]
    },
    {
      "cell_type": "code",
      "execution_count": 4,
      "metadata": {
        "id": "SbQTAcWvrryg"
      },
      "outputs": [],
      "source": [
        "\n",
        "import numpy as np\n",
        "from sklearn.model_selection import train_test_split\n",
        "from sklearn.preprocessing import LabelEncoder\n",
        "from sklearn.ensemble import RandomForestRegressor\n",
        "from sklearn.ensemble import BaggingRegressor, AdaBoostRegressor, VotingRegressor\n",
        "from sklearn.metrics import mean_squared_error\n"
      ]
    },
    {
      "cell_type": "code",
      "execution_count": 5,
      "metadata": {},
      "outputs": [],
      "source": [
        "\n",
        "import pandas as pd"
      ]
    },
    {
      "attachments": {},
      "cell_type": "markdown",
      "metadata": {
        "id": "BPz9jeJARMq4"
      },
      "source": [
        "## Dataset"
      ]
    },
    {
      "cell_type": "code",
      "execution_count": 12,
      "metadata": {
        "id": "UxgJZg6Xrryo"
      },
      "outputs": [],
      "source": [
        "# Load the dataset\n",
        "df = pd.read_csv(\"C:/Users/cyril/OneDrive/Pictures/SEM 6/assignment/Web Mining/Project/Works/movie_metadata.csv/movie_metadata.csv\")\n",
        "\n"
      ]
    },
    {
      "attachments": {},
      "cell_type": "markdown",
      "metadata": {
        "id": "B4NCJ4mkRP4J"
      },
      "source": [
        "## Cleaning Data"
      ]
    },
    {
      "cell_type": "code",
      "execution_count": 13,
      "metadata": {
        "id": "MN-g6Rm1rryp"
      },
      "outputs": [],
      "source": [
        "# Drop irrelevant columns\n",
        "df = df.drop(['color', 'movie_imdb_link'], axis=1)\n",
        "\n"
      ]
    },
    {
      "cell_type": "code",
      "execution_count": 14,
      "metadata": {
        "id": "DS2jTtZjrryq"
      },
      "outputs": [],
      "source": [
        "#numeric values \n",
        "\n",
        "data_numeric = df.select_dtypes(include=[np.number]) # type: ignore\n",
        "numeric_columns = data_numeric.columns.values\n",
        "\n",
        "#non-numeric values\n",
        "\n",
        "data_nonnumeric = df.select_dtypes(exclude=[np.number]) # type: ignore\n",
        "nonnumeric_columns = data_nonnumeric.columns.values"
      ]
    },
    {
      "cell_type": "code",
      "execution_count": 15,
      "metadata": {
        "id": "wemqwLDJrryr"
      },
      "outputs": [
        {
          "name": "stdout",
          "output_type": "stream",
          "text": [
            "<class 'pandas.core.frame.DataFrame'>\n",
            "RangeIndex: 5043 entries, 0 to 5042\n",
            "Data columns (total 26 columns):\n",
            " #   Column                     Non-Null Count  Dtype  \n",
            "---  ------                     --------------  -----  \n",
            " 0   director_name              4939 non-null   object \n",
            " 1   num_critic_for_reviews     4993 non-null   float64\n",
            " 2   duration                   5028 non-null   float64\n",
            " 3   director_facebook_likes    4939 non-null   float64\n",
            " 4   actor_3_facebook_likes     5020 non-null   float64\n",
            " 5   actor_2_name               5030 non-null   object \n",
            " 6   actor_1_facebook_likes     5036 non-null   float64\n",
            " 7   gross                      4159 non-null   float64\n",
            " 8   genres                     5043 non-null   object \n",
            " 9   actor_1_name               5036 non-null   object \n",
            " 10  movie_title                5043 non-null   object \n",
            " 11  num_voted_users            5043 non-null   int64  \n",
            " 12  cast_total_facebook_likes  5043 non-null   int64  \n",
            " 13  actor_3_name               5020 non-null   object \n",
            " 14  facenumber_in_poster       5030 non-null   float64\n",
            " 15  plot_keywords              4890 non-null   object \n",
            " 16  num_user_for_reviews       5022 non-null   float64\n",
            " 17  language                   5031 non-null   object \n",
            " 18  country                    5038 non-null   object \n",
            " 19  content_rating             4740 non-null   object \n",
            " 20  budget                     4551 non-null   float64\n",
            " 21  title_year                 4935 non-null   float64\n",
            " 22  actor_2_facebook_likes     5030 non-null   float64\n",
            " 23  imdb_score                 5043 non-null   float64\n",
            " 24  aspect_ratio               4714 non-null   float64\n",
            " 25  movie_facebook_likes       5043 non-null   int64  \n",
            "dtypes: float64(13), int64(3), object(10)\n",
            "memory usage: 1.0+ MB\n"
          ]
        }
      ],
      "source": [
        "df.info()"
      ]
    },
    {
      "cell_type": "code",
      "execution_count": 16,
      "metadata": {
        "id": "hsHm2n8Jrryt"
      },
      "outputs": [],
      "source": [
        "#Clean remaining  Numerical columns\n",
        "\n",
        "for col in numeric_columns:\n",
        "    missing = df[col].isnull()\n",
        "    num_missing = np.sum(missing)\n",
        "    if num_missing>0:\n",
        "        mid = df[col].median()\n",
        "        df[col] = df[col].fillna(mid)"
      ]
    },
    {
      "cell_type": "code",
      "execution_count": 17,
      "metadata": {
        "id": "dWW2vjGqrryv"
      },
      "outputs": [],
      "source": [
        "#clean the remaining missing values in non-numeric columns\n",
        "\n",
        "for col in nonnumeric_columns:\n",
        "    missing1 = df[col].isnull()\n",
        "    num_missing1 = np.sum(missing1)\n",
        "    if num_missing1>0:\n",
        "        mod = df[col].describe()['top']\n",
        "        df[col] = df[col].fillna(mod) \n"
      ]
    },
    {
      "cell_type": "code",
      "execution_count": 18,
      "metadata": {
        "id": "pzTMqJp_rryx"
      },
      "outputs": [],
      "source": [
        "# Split the dataset into training and testing sets\n",
        "y = df['gross']\n",
        "df = df.drop([ 'plot_keywords','director_name','title_year','content_rating','gross','duration','aspect_ratio' ,'movie_title','country','actor_2_name','actor_3_name','plot_keywords','actor_1_name','facenumber_in_poster','num_critic_for_reviews'], axis=1)\n",
        "\n",
        "\n"
      ]
    },
    {
      "cell_type": "code",
      "execution_count": 19,
      "metadata": {
        "id": "NtuNoMjHrryz"
      },
      "outputs": [
        {
          "name": "stdout",
          "output_type": "stream",
          "text": [
            "<class 'pandas.core.frame.DataFrame'>\n",
            "RangeIndex: 5043 entries, 0 to 5042\n",
            "Data columns (total 12 columns):\n",
            " #   Column                     Non-Null Count  Dtype  \n",
            "---  ------                     --------------  -----  \n",
            " 0   director_facebook_likes    5043 non-null   float64\n",
            " 1   actor_3_facebook_likes     5043 non-null   float64\n",
            " 2   actor_1_facebook_likes     5043 non-null   float64\n",
            " 3   genres                     5043 non-null   object \n",
            " 4   num_voted_users            5043 non-null   int64  \n",
            " 5   cast_total_facebook_likes  5043 non-null   int64  \n",
            " 6   num_user_for_reviews       5043 non-null   float64\n",
            " 7   language                   5043 non-null   object \n",
            " 8   budget                     5043 non-null   float64\n",
            " 9   actor_2_facebook_likes     5043 non-null   float64\n",
            " 10  imdb_score                 5043 non-null   float64\n",
            " 11  movie_facebook_likes       5043 non-null   int64  \n",
            "dtypes: float64(7), int64(3), object(2)\n",
            "memory usage: 472.9+ KB\n"
          ]
        }
      ],
      "source": [
        "df.info()"
      ]
    },
    {
      "cell_type": "code",
      "execution_count": 20,
      "metadata": {
        "id": "QuxJW3khrryz"
      },
      "outputs": [],
      "source": [
        "b= ['genres','language']"
      ]
    },
    {
      "cell_type": "code",
      "execution_count": 21,
      "metadata": {
        "id": "u91MEdOXRETw"
      },
      "outputs": [
        {
          "data": {
            "text/html": [
              "<div>\n",
              "<style scoped>\n",
              "    .dataframe tbody tr th:only-of-type {\n",
              "        vertical-align: middle;\n",
              "    }\n",
              "\n",
              "    .dataframe tbody tr th {\n",
              "        vertical-align: top;\n",
              "    }\n",
              "\n",
              "    .dataframe thead th {\n",
              "        text-align: right;\n",
              "    }\n",
              "</style>\n",
              "<table border=\"1\" class=\"dataframe\">\n",
              "  <thead>\n",
              "    <tr style=\"text-align: right;\">\n",
              "      <th></th>\n",
              "      <th>director_facebook_likes</th>\n",
              "      <th>actor_3_facebook_likes</th>\n",
              "      <th>actor_1_facebook_likes</th>\n",
              "      <th>genres</th>\n",
              "      <th>num_voted_users</th>\n",
              "      <th>cast_total_facebook_likes</th>\n",
              "      <th>num_user_for_reviews</th>\n",
              "      <th>language</th>\n",
              "      <th>budget</th>\n",
              "      <th>actor_2_facebook_likes</th>\n",
              "      <th>imdb_score</th>\n",
              "      <th>movie_facebook_likes</th>\n",
              "    </tr>\n",
              "  </thead>\n",
              "  <tbody>\n",
              "    <tr>\n",
              "      <th>0</th>\n",
              "      <td>0.0</td>\n",
              "      <td>855.0</td>\n",
              "      <td>1000.0</td>\n",
              "      <td>Action|Adventure|Fantasy|Sci-Fi</td>\n",
              "      <td>886204</td>\n",
              "      <td>4834</td>\n",
              "      <td>3054.0</td>\n",
              "      <td>English</td>\n",
              "      <td>237000000.0</td>\n",
              "      <td>936.0</td>\n",
              "      <td>7.9</td>\n",
              "      <td>33000</td>\n",
              "    </tr>\n",
              "    <tr>\n",
              "      <th>1</th>\n",
              "      <td>563.0</td>\n",
              "      <td>1000.0</td>\n",
              "      <td>40000.0</td>\n",
              "      <td>Action|Adventure|Fantasy</td>\n",
              "      <td>471220</td>\n",
              "      <td>48350</td>\n",
              "      <td>1238.0</td>\n",
              "      <td>English</td>\n",
              "      <td>300000000.0</td>\n",
              "      <td>5000.0</td>\n",
              "      <td>7.1</td>\n",
              "      <td>0</td>\n",
              "    </tr>\n",
              "    <tr>\n",
              "      <th>2</th>\n",
              "      <td>0.0</td>\n",
              "      <td>161.0</td>\n",
              "      <td>11000.0</td>\n",
              "      <td>Action|Adventure|Thriller</td>\n",
              "      <td>275868</td>\n",
              "      <td>11700</td>\n",
              "      <td>994.0</td>\n",
              "      <td>English</td>\n",
              "      <td>245000000.0</td>\n",
              "      <td>393.0</td>\n",
              "      <td>6.8</td>\n",
              "      <td>85000</td>\n",
              "    </tr>\n",
              "    <tr>\n",
              "      <th>3</th>\n",
              "      <td>22000.0</td>\n",
              "      <td>23000.0</td>\n",
              "      <td>27000.0</td>\n",
              "      <td>Action|Thriller</td>\n",
              "      <td>1144337</td>\n",
              "      <td>106759</td>\n",
              "      <td>2701.0</td>\n",
              "      <td>English</td>\n",
              "      <td>250000000.0</td>\n",
              "      <td>23000.0</td>\n",
              "      <td>8.5</td>\n",
              "      <td>164000</td>\n",
              "    </tr>\n",
              "    <tr>\n",
              "      <th>4</th>\n",
              "      <td>131.0</td>\n",
              "      <td>371.5</td>\n",
              "      <td>131.0</td>\n",
              "      <td>Documentary</td>\n",
              "      <td>8</td>\n",
              "      <td>143</td>\n",
              "      <td>156.0</td>\n",
              "      <td>English</td>\n",
              "      <td>20000000.0</td>\n",
              "      <td>12.0</td>\n",
              "      <td>7.1</td>\n",
              "      <td>0</td>\n",
              "    </tr>\n",
              "    <tr>\n",
              "      <th>...</th>\n",
              "      <td>...</td>\n",
              "      <td>...</td>\n",
              "      <td>...</td>\n",
              "      <td>...</td>\n",
              "      <td>...</td>\n",
              "      <td>...</td>\n",
              "      <td>...</td>\n",
              "      <td>...</td>\n",
              "      <td>...</td>\n",
              "      <td>...</td>\n",
              "      <td>...</td>\n",
              "      <td>...</td>\n",
              "    </tr>\n",
              "    <tr>\n",
              "      <th>5038</th>\n",
              "      <td>2.0</td>\n",
              "      <td>318.0</td>\n",
              "      <td>637.0</td>\n",
              "      <td>Comedy|Drama</td>\n",
              "      <td>629</td>\n",
              "      <td>2283</td>\n",
              "      <td>6.0</td>\n",
              "      <td>English</td>\n",
              "      <td>20000000.0</td>\n",
              "      <td>470.0</td>\n",
              "      <td>7.7</td>\n",
              "      <td>84</td>\n",
              "    </tr>\n",
              "    <tr>\n",
              "      <th>5039</th>\n",
              "      <td>49.0</td>\n",
              "      <td>319.0</td>\n",
              "      <td>841.0</td>\n",
              "      <td>Crime|Drama|Mystery|Thriller</td>\n",
              "      <td>73839</td>\n",
              "      <td>1753</td>\n",
              "      <td>359.0</td>\n",
              "      <td>English</td>\n",
              "      <td>20000000.0</td>\n",
              "      <td>593.0</td>\n",
              "      <td>7.5</td>\n",
              "      <td>32000</td>\n",
              "    </tr>\n",
              "    <tr>\n",
              "      <th>5040</th>\n",
              "      <td>0.0</td>\n",
              "      <td>0.0</td>\n",
              "      <td>0.0</td>\n",
              "      <td>Drama|Horror|Thriller</td>\n",
              "      <td>38</td>\n",
              "      <td>0</td>\n",
              "      <td>3.0</td>\n",
              "      <td>English</td>\n",
              "      <td>1400.0</td>\n",
              "      <td>0.0</td>\n",
              "      <td>6.3</td>\n",
              "      <td>16</td>\n",
              "    </tr>\n",
              "    <tr>\n",
              "      <th>5041</th>\n",
              "      <td>0.0</td>\n",
              "      <td>489.0</td>\n",
              "      <td>946.0</td>\n",
              "      <td>Comedy|Drama|Romance</td>\n",
              "      <td>1255</td>\n",
              "      <td>2386</td>\n",
              "      <td>9.0</td>\n",
              "      <td>English</td>\n",
              "      <td>20000000.0</td>\n",
              "      <td>719.0</td>\n",
              "      <td>6.3</td>\n",
              "      <td>660</td>\n",
              "    </tr>\n",
              "    <tr>\n",
              "      <th>5042</th>\n",
              "      <td>16.0</td>\n",
              "      <td>16.0</td>\n",
              "      <td>86.0</td>\n",
              "      <td>Documentary</td>\n",
              "      <td>4285</td>\n",
              "      <td>163</td>\n",
              "      <td>84.0</td>\n",
              "      <td>English</td>\n",
              "      <td>1100.0</td>\n",
              "      <td>23.0</td>\n",
              "      <td>6.6</td>\n",
              "      <td>456</td>\n",
              "    </tr>\n",
              "  </tbody>\n",
              "</table>\n",
              "<p>5043 rows × 12 columns</p>\n",
              "</div>"
            ],
            "text/plain": [
              "      director_facebook_likes  actor_3_facebook_likes  actor_1_facebook_likes  \\\n",
              "0                         0.0                   855.0                  1000.0   \n",
              "1                       563.0                  1000.0                 40000.0   \n",
              "2                         0.0                   161.0                 11000.0   \n",
              "3                     22000.0                 23000.0                 27000.0   \n",
              "4                       131.0                   371.5                   131.0   \n",
              "...                       ...                     ...                     ...   \n",
              "5038                      2.0                   318.0                   637.0   \n",
              "5039                     49.0                   319.0                   841.0   \n",
              "5040                      0.0                     0.0                     0.0   \n",
              "5041                      0.0                   489.0                   946.0   \n",
              "5042                     16.0                    16.0                    86.0   \n",
              "\n",
              "                               genres  num_voted_users  \\\n",
              "0     Action|Adventure|Fantasy|Sci-Fi           886204   \n",
              "1            Action|Adventure|Fantasy           471220   \n",
              "2           Action|Adventure|Thriller           275868   \n",
              "3                     Action|Thriller          1144337   \n",
              "4                         Documentary                8   \n",
              "...                               ...              ...   \n",
              "5038                     Comedy|Drama              629   \n",
              "5039     Crime|Drama|Mystery|Thriller            73839   \n",
              "5040            Drama|Horror|Thriller               38   \n",
              "5041             Comedy|Drama|Romance             1255   \n",
              "5042                      Documentary             4285   \n",
              "\n",
              "      cast_total_facebook_likes  num_user_for_reviews language       budget  \\\n",
              "0                          4834                3054.0  English  237000000.0   \n",
              "1                         48350                1238.0  English  300000000.0   \n",
              "2                         11700                 994.0  English  245000000.0   \n",
              "3                        106759                2701.0  English  250000000.0   \n",
              "4                           143                 156.0  English   20000000.0   \n",
              "...                         ...                   ...      ...          ...   \n",
              "5038                       2283                   6.0  English   20000000.0   \n",
              "5039                       1753                 359.0  English   20000000.0   \n",
              "5040                          0                   3.0  English       1400.0   \n",
              "5041                       2386                   9.0  English   20000000.0   \n",
              "5042                        163                  84.0  English       1100.0   \n",
              "\n",
              "      actor_2_facebook_likes  imdb_score  movie_facebook_likes  \n",
              "0                      936.0         7.9                 33000  \n",
              "1                     5000.0         7.1                     0  \n",
              "2                      393.0         6.8                 85000  \n",
              "3                    23000.0         8.5                164000  \n",
              "4                       12.0         7.1                     0  \n",
              "...                      ...         ...                   ...  \n",
              "5038                   470.0         7.7                    84  \n",
              "5039                   593.0         7.5                 32000  \n",
              "5040                     0.0         6.3                    16  \n",
              "5041                   719.0         6.3                   660  \n",
              "5042                    23.0         6.6                   456  \n",
              "\n",
              "[5043 rows x 12 columns]"
            ]
          },
          "execution_count": 21,
          "metadata": {},
          "output_type": "execute_result"
        }
      ],
      "source": [
        "df"
      ]
    },
    {
      "attachments": {},
      "cell_type": "markdown",
      "metadata": {},
      "source": [
        "## Label Encoding"
      ]
    },
    {
      "cell_type": "code",
      "execution_count": 22,
      "metadata": {
        "id": "bCHMkQP0rry0"
      },
      "outputs": [],
      "source": [
        "#dummydata = pd.get_dummies(df[b])\n",
        "\n",
        "from sklearn import preprocessing\n",
        "label_encoder = preprocessing.LabelEncoder()"
      ]
    },
    {
      "cell_type": "code",
      "execution_count": 23,
      "metadata": {},
      "outputs": [],
      "source": [
        "df['language'] = label_encoder.fit_transform(df['language'])\n",
        "df['genres'] = label_encoder.fit_transform(df['genres'])\n"
      ]
    },
    {
      "cell_type": "code",
      "execution_count": null,
      "metadata": {
        "id": "yti5XKAURUvY"
      },
      "outputs": [],
      "source": [
        "#df.drop(b, inplace=True,axis=1)\n"
      ]
    },
    {
      "cell_type": "code",
      "execution_count": null,
      "metadata": {
        "id": "jGlj4GmJRmn3"
      },
      "outputs": [],
      "source": [
        "#df = pd.concat([df,dummydata],axis=1) "
      ]
    },
    {
      "cell_type": "code",
      "execution_count": 20,
      "metadata": {
        "id": "Qyf0sF-_rry1"
      },
      "outputs": [
        {
          "name": "stdout",
          "output_type": "stream",
          "text": [
            "<class 'pandas.core.frame.DataFrame'>\n",
            "RangeIndex: 5043 entries, 0 to 5042\n",
            "Data columns (total 12 columns):\n",
            " #   Column                     Non-Null Count  Dtype  \n",
            "---  ------                     --------------  -----  \n",
            " 0   director_facebook_likes    5043 non-null   float64\n",
            " 1   actor_3_facebook_likes     5043 non-null   float64\n",
            " 2   actor_1_facebook_likes     5043 non-null   float64\n",
            " 3   genres                     5043 non-null   int32  \n",
            " 4   num_voted_users            5043 non-null   int64  \n",
            " 5   cast_total_facebook_likes  5043 non-null   int64  \n",
            " 6   num_user_for_reviews       5043 non-null   float64\n",
            " 7   language                   5043 non-null   int32  \n",
            " 8   budget                     5043 non-null   float64\n",
            " 9   actor_2_facebook_likes     5043 non-null   float64\n",
            " 10  imdb_score                 5043 non-null   float64\n",
            " 11  movie_facebook_likes       5043 non-null   int64  \n",
            "dtypes: float64(7), int32(2), int64(3)\n",
            "memory usage: 433.5 KB\n"
          ]
        }
      ],
      "source": [
        "df.head()\n",
        "df.info()"
      ]
    },
    {
      "attachments": {},
      "cell_type": "markdown",
      "metadata": {
        "id": "W11EuvT3RWAY"
      },
      "source": [
        "## Spliting Data"
      ]
    },
    {
      "cell_type": "code",
      "execution_count": 21,
      "metadata": {
        "id": "rwbZaJoFrry2"
      },
      "outputs": [],
      "source": [
        "X_train, X_test, y_train, y_test = train_test_split(df, y, test_size=0.2, random_state=50)"
      ]
    },
    {
      "attachments": {},
      "cell_type": "markdown",
      "metadata": {
        "id": "kRfpGPsdRagY"
      },
      "source": [
        "## RandomForestRegressor"
      ]
    },
    {
      "cell_type": "code",
      "execution_count": 22,
      "metadata": {
        "id": "fdheGBm_rry2"
      },
      "outputs": [],
      "source": [
        "# Train a random forest regressor model\n",
        "rf = RandomForestRegressor(n_estimators=50, random_state=50)\n"
      ]
    },
    {
      "attachments": {},
      "cell_type": "markdown",
      "metadata": {
        "id": "uAj2A425UgSa"
      },
      "source": [
        "### Bagging"
      ]
    },
    {
      "cell_type": "code",
      "execution_count": 23,
      "metadata": {
        "id": "lB04SwLEUgSa"
      },
      "outputs": [
        {
          "data": {
            "text/html": [
              "<style>#sk-container-id-1 {color: black;background-color: white;}#sk-container-id-1 pre{padding: 0;}#sk-container-id-1 div.sk-toggleable {background-color: white;}#sk-container-id-1 label.sk-toggleable__label {cursor: pointer;display: block;width: 100%;margin-bottom: 0;padding: 0.3em;box-sizing: border-box;text-align: center;}#sk-container-id-1 label.sk-toggleable__label-arrow:before {content: \"▸\";float: left;margin-right: 0.25em;color: #696969;}#sk-container-id-1 label.sk-toggleable__label-arrow:hover:before {color: black;}#sk-container-id-1 div.sk-estimator:hover label.sk-toggleable__label-arrow:before {color: black;}#sk-container-id-1 div.sk-toggleable__content {max-height: 0;max-width: 0;overflow: hidden;text-align: left;background-color: #f0f8ff;}#sk-container-id-1 div.sk-toggleable__content pre {margin: 0.2em;color: black;border-radius: 0.25em;background-color: #f0f8ff;}#sk-container-id-1 input.sk-toggleable__control:checked~div.sk-toggleable__content {max-height: 200px;max-width: 100%;overflow: auto;}#sk-container-id-1 input.sk-toggleable__control:checked~label.sk-toggleable__label-arrow:before {content: \"▾\";}#sk-container-id-1 div.sk-estimator input.sk-toggleable__control:checked~label.sk-toggleable__label {background-color: #d4ebff;}#sk-container-id-1 div.sk-label input.sk-toggleable__control:checked~label.sk-toggleable__label {background-color: #d4ebff;}#sk-container-id-1 input.sk-hidden--visually {border: 0;clip: rect(1px 1px 1px 1px);clip: rect(1px, 1px, 1px, 1px);height: 1px;margin: -1px;overflow: hidden;padding: 0;position: absolute;width: 1px;}#sk-container-id-1 div.sk-estimator {font-family: monospace;background-color: #f0f8ff;border: 1px dotted black;border-radius: 0.25em;box-sizing: border-box;margin-bottom: 0.5em;}#sk-container-id-1 div.sk-estimator:hover {background-color: #d4ebff;}#sk-container-id-1 div.sk-parallel-item::after {content: \"\";width: 100%;border-bottom: 1px solid gray;flex-grow: 1;}#sk-container-id-1 div.sk-label:hover label.sk-toggleable__label {background-color: #d4ebff;}#sk-container-id-1 div.sk-serial::before {content: \"\";position: absolute;border-left: 1px solid gray;box-sizing: border-box;top: 0;bottom: 0;left: 50%;z-index: 0;}#sk-container-id-1 div.sk-serial {display: flex;flex-direction: column;align-items: center;background-color: white;padding-right: 0.2em;padding-left: 0.2em;position: relative;}#sk-container-id-1 div.sk-item {position: relative;z-index: 1;}#sk-container-id-1 div.sk-parallel {display: flex;align-items: stretch;justify-content: center;background-color: white;position: relative;}#sk-container-id-1 div.sk-item::before, #sk-container-id-1 div.sk-parallel-item::before {content: \"\";position: absolute;border-left: 1px solid gray;box-sizing: border-box;top: 0;bottom: 0;left: 50%;z-index: -1;}#sk-container-id-1 div.sk-parallel-item {display: flex;flex-direction: column;z-index: 1;position: relative;background-color: white;}#sk-container-id-1 div.sk-parallel-item:first-child::after {align-self: flex-end;width: 50%;}#sk-container-id-1 div.sk-parallel-item:last-child::after {align-self: flex-start;width: 50%;}#sk-container-id-1 div.sk-parallel-item:only-child::after {width: 0;}#sk-container-id-1 div.sk-dashed-wrapped {border: 1px dashed gray;margin: 0 0.4em 0.5em 0.4em;box-sizing: border-box;padding-bottom: 0.4em;background-color: white;}#sk-container-id-1 div.sk-label label {font-family: monospace;font-weight: bold;display: inline-block;line-height: 1.2em;}#sk-container-id-1 div.sk-label-container {text-align: center;}#sk-container-id-1 div.sk-container {/* jupyter's `normalize.less` sets `[hidden] { display: none; }` but bootstrap.min.css set `[hidden] { display: none !important; }` so we also need the `!important` here to be able to override the default hidden behavior on the sphinx rendered scikit-learn.org. See: https://github.com/scikit-learn/scikit-learn/issues/21755 */display: inline-block !important;position: relative;}#sk-container-id-1 div.sk-text-repr-fallback {display: none;}</style><div id=\"sk-container-id-1\" class=\"sk-top-container\"><div class=\"sk-text-repr-fallback\"><pre>BaggingRegressor(estimator=RandomForestRegressor(n_estimators=50,\n",
              "                                                 random_state=50),\n",
              "                 n_estimators=40, random_state=50)</pre><b>In a Jupyter environment, please rerun this cell to show the HTML representation or trust the notebook. <br />On GitHub, the HTML representation is unable to render, please try loading this page with nbviewer.org.</b></div><div class=\"sk-container\" hidden><div class=\"sk-item sk-dashed-wrapped\"><div class=\"sk-label-container\"><div class=\"sk-label sk-toggleable\"><input class=\"sk-toggleable__control sk-hidden--visually\" id=\"sk-estimator-id-1\" type=\"checkbox\" ><label for=\"sk-estimator-id-1\" class=\"sk-toggleable__label sk-toggleable__label-arrow\">BaggingRegressor</label><div class=\"sk-toggleable__content\"><pre>BaggingRegressor(estimator=RandomForestRegressor(n_estimators=50,\n",
              "                                                 random_state=50),\n",
              "                 n_estimators=40, random_state=50)</pre></div></div></div><div class=\"sk-parallel\"><div class=\"sk-parallel-item\"><div class=\"sk-item\"><div class=\"sk-label-container\"><div class=\"sk-label sk-toggleable\"><input class=\"sk-toggleable__control sk-hidden--visually\" id=\"sk-estimator-id-2\" type=\"checkbox\" ><label for=\"sk-estimator-id-2\" class=\"sk-toggleable__label sk-toggleable__label-arrow\">estimator: RandomForestRegressor</label><div class=\"sk-toggleable__content\"><pre>RandomForestRegressor(n_estimators=50, random_state=50)</pre></div></div></div><div class=\"sk-serial\"><div class=\"sk-item\"><div class=\"sk-estimator sk-toggleable\"><input class=\"sk-toggleable__control sk-hidden--visually\" id=\"sk-estimator-id-3\" type=\"checkbox\" ><label for=\"sk-estimator-id-3\" class=\"sk-toggleable__label sk-toggleable__label-arrow\">RandomForestRegressor</label><div class=\"sk-toggleable__content\"><pre>RandomForestRegressor(n_estimators=50, random_state=50)</pre></div></div></div></div></div></div></div></div></div></div>"
            ],
            "text/plain": [
              "BaggingRegressor(estimator=RandomForestRegressor(n_estimators=50,\n",
              "                                                 random_state=50),\n",
              "                 n_estimators=40, random_state=50)"
            ]
          },
          "execution_count": 23,
          "metadata": {},
          "output_type": "execute_result"
        }
      ],
      "source": [
        "from sklearn.metrics import accuracy_score\n",
        "import matplotlib.pyplot as plt\n",
        "from sklearn import model_selection\n",
        "\n",
        "# Create bagging classifier\n",
        "baggingrf = BaggingRegressor(estimator= rf,n_estimators = 40, random_state = 50)\n",
        "\n",
        "# Fit the model\n",
        "baggingrf.fit(X_train, y_train)\n"
      ]
    },
    {
      "cell_type": "code",
      "execution_count": 24,
      "metadata": {
        "id": "Tik6C4ij8uJO"
      },
      "outputs": [
        {
          "name": "stdout",
          "output_type": "stream",
          "text": [
            "0.6508595108485022\n"
          ]
        }
      ],
      "source": [
        "# Append the model and score to their respective list\n",
        "print(baggingrf.score(X_test,y_test))"
      ]
    },
    {
      "cell_type": "code",
      "execution_count": 27,
      "metadata": {},
      "outputs": [
        {
          "name": "stderr",
          "output_type": "stream",
          "text": [
            "c:\\Users\\cyril\\AppData\\Local\\Programs\\Python\\Python311\\Lib\\site-packages\\sklearn\\base.py:420: UserWarning: X does not have valid feature names, but BaggingRegressor was fitted with feature names\n",
            "  warnings.warn(\n"
          ]
        },
        {
          "ename": "ValueError",
          "evalue": "Expected 2D array, got 1D array instead:\narray=[2.55175000e+07 1.02981571e+08 2.55175000e+07 ... 3.09468700e+06\n 2.81658820e+07 2.14716850e+07].\nReshape your data either using array.reshape(-1, 1) if your data has a single feature or array.reshape(1, -1) if it contains a single sample.",
          "output_type": "error",
          "traceback": [
            "\u001b[1;31m---------------------------------------------------------------------------\u001b[0m",
            "\u001b[1;31mValueError\u001b[0m                                Traceback (most recent call last)",
            "Cell \u001b[1;32mIn[27], line 2\u001b[0m\n\u001b[0;32m      1\u001b[0m y_pred \u001b[39m=\u001b[39m baggingrf\u001b[39m.\u001b[39mpredict(X_test)\n\u001b[1;32m----> 2\u001b[0m \u001b[39mprint\u001b[39m(baggingrf\u001b[39m.\u001b[39;49mscore(y_test,y_pred))\n",
            "File \u001b[1;32mc:\\Users\\cyril\\AppData\\Local\\Programs\\Python\\Python311\\Lib\\site-packages\\sklearn\\base.py:703\u001b[0m, in \u001b[0;36mRegressorMixin.score\u001b[1;34m(self, X, y, sample_weight)\u001b[0m\n\u001b[0;32m    661\u001b[0m \u001b[39m\u001b[39m\u001b[39m\"\"\"Return the coefficient of determination of the prediction.\u001b[39;00m\n\u001b[0;32m    662\u001b[0m \n\u001b[0;32m    663\u001b[0m \u001b[39mThe coefficient of determination :math:`R^2` is defined as\u001b[39;00m\n\u001b[1;32m   (...)\u001b[0m\n\u001b[0;32m    698\u001b[0m \u001b[39m:class:`~sklearn.multioutput.MultiOutputRegressor`).\u001b[39;00m\n\u001b[0;32m    699\u001b[0m \u001b[39m\"\"\"\u001b[39;00m\n\u001b[0;32m    701\u001b[0m \u001b[39mfrom\u001b[39;00m \u001b[39m.\u001b[39;00m\u001b[39mmetrics\u001b[39;00m \u001b[39mimport\u001b[39;00m r2_score\n\u001b[1;32m--> 703\u001b[0m y_pred \u001b[39m=\u001b[39m \u001b[39mself\u001b[39;49m\u001b[39m.\u001b[39;49mpredict(X)\n\u001b[0;32m    704\u001b[0m \u001b[39mreturn\u001b[39;00m r2_score(y, y_pred, sample_weight\u001b[39m=\u001b[39msample_weight)\n",
            "File \u001b[1;32mc:\\Users\\cyril\\AppData\\Local\\Programs\\Python\\Python311\\Lib\\site-packages\\sklearn\\ensemble\\_bagging.py:1208\u001b[0m, in \u001b[0;36mBaggingRegressor.predict\u001b[1;34m(self, X)\u001b[0m\n\u001b[0;32m   1206\u001b[0m check_is_fitted(\u001b[39mself\u001b[39m)\n\u001b[0;32m   1207\u001b[0m \u001b[39m# Check data\u001b[39;00m\n\u001b[1;32m-> 1208\u001b[0m X \u001b[39m=\u001b[39m \u001b[39mself\u001b[39;49m\u001b[39m.\u001b[39;49m_validate_data(\n\u001b[0;32m   1209\u001b[0m     X,\n\u001b[0;32m   1210\u001b[0m     accept_sparse\u001b[39m=\u001b[39;49m[\u001b[39m\"\u001b[39;49m\u001b[39mcsr\u001b[39;49m\u001b[39m\"\u001b[39;49m, \u001b[39m\"\u001b[39;49m\u001b[39mcsc\u001b[39;49m\u001b[39m\"\u001b[39;49m],\n\u001b[0;32m   1211\u001b[0m     dtype\u001b[39m=\u001b[39;49m\u001b[39mNone\u001b[39;49;00m,\n\u001b[0;32m   1212\u001b[0m     force_all_finite\u001b[39m=\u001b[39;49m\u001b[39mFalse\u001b[39;49;00m,\n\u001b[0;32m   1213\u001b[0m     reset\u001b[39m=\u001b[39;49m\u001b[39mFalse\u001b[39;49;00m,\n\u001b[0;32m   1214\u001b[0m )\n\u001b[0;32m   1216\u001b[0m \u001b[39m# Parallel loop\u001b[39;00m\n\u001b[0;32m   1217\u001b[0m n_jobs, _, starts \u001b[39m=\u001b[39m _partition_estimators(\u001b[39mself\u001b[39m\u001b[39m.\u001b[39mn_estimators, \u001b[39mself\u001b[39m\u001b[39m.\u001b[39mn_jobs)\n",
            "File \u001b[1;32mc:\\Users\\cyril\\AppData\\Local\\Programs\\Python\\Python311\\Lib\\site-packages\\sklearn\\base.py:546\u001b[0m, in \u001b[0;36mBaseEstimator._validate_data\u001b[1;34m(self, X, y, reset, validate_separately, **check_params)\u001b[0m\n\u001b[0;32m    544\u001b[0m     \u001b[39mraise\u001b[39;00m \u001b[39mValueError\u001b[39;00m(\u001b[39m\"\u001b[39m\u001b[39mValidation should be done on X, y or both.\u001b[39m\u001b[39m\"\u001b[39m)\n\u001b[0;32m    545\u001b[0m \u001b[39melif\u001b[39;00m \u001b[39mnot\u001b[39;00m no_val_X \u001b[39mand\u001b[39;00m no_val_y:\n\u001b[1;32m--> 546\u001b[0m     X \u001b[39m=\u001b[39m check_array(X, input_name\u001b[39m=\u001b[39;49m\u001b[39m\"\u001b[39;49m\u001b[39mX\u001b[39;49m\u001b[39m\"\u001b[39;49m, \u001b[39m*\u001b[39;49m\u001b[39m*\u001b[39;49mcheck_params)\n\u001b[0;32m    547\u001b[0m     out \u001b[39m=\u001b[39m X\n\u001b[0;32m    548\u001b[0m \u001b[39melif\u001b[39;00m no_val_X \u001b[39mand\u001b[39;00m \u001b[39mnot\u001b[39;00m no_val_y:\n",
            "File \u001b[1;32mc:\\Users\\cyril\\AppData\\Local\\Programs\\Python\\Python311\\Lib\\site-packages\\sklearn\\utils\\validation.py:902\u001b[0m, in \u001b[0;36mcheck_array\u001b[1;34m(array, accept_sparse, accept_large_sparse, dtype, order, copy, force_all_finite, ensure_2d, allow_nd, ensure_min_samples, ensure_min_features, estimator, input_name)\u001b[0m\n\u001b[0;32m    900\u001b[0m     \u001b[39m# If input is 1D raise error\u001b[39;00m\n\u001b[0;32m    901\u001b[0m     \u001b[39mif\u001b[39;00m array\u001b[39m.\u001b[39mndim \u001b[39m==\u001b[39m \u001b[39m1\u001b[39m:\n\u001b[1;32m--> 902\u001b[0m         \u001b[39mraise\u001b[39;00m \u001b[39mValueError\u001b[39;00m(\n\u001b[0;32m    903\u001b[0m             \u001b[39m\"\u001b[39m\u001b[39mExpected 2D array, got 1D array instead:\u001b[39m\u001b[39m\\n\u001b[39;00m\u001b[39marray=\u001b[39m\u001b[39m{}\u001b[39;00m\u001b[39m.\u001b[39m\u001b[39m\\n\u001b[39;00m\u001b[39m\"\u001b[39m\n\u001b[0;32m    904\u001b[0m             \u001b[39m\"\u001b[39m\u001b[39mReshape your data either using array.reshape(-1, 1) if \u001b[39m\u001b[39m\"\u001b[39m\n\u001b[0;32m    905\u001b[0m             \u001b[39m\"\u001b[39m\u001b[39myour data has a single feature or array.reshape(1, -1) \u001b[39m\u001b[39m\"\u001b[39m\n\u001b[0;32m    906\u001b[0m             \u001b[39m\"\u001b[39m\u001b[39mif it contains a single sample.\u001b[39m\u001b[39m\"\u001b[39m\u001b[39m.\u001b[39mformat(array)\n\u001b[0;32m    907\u001b[0m         )\n\u001b[0;32m    909\u001b[0m \u001b[39mif\u001b[39;00m dtype_numeric \u001b[39mand\u001b[39;00m array\u001b[39m.\u001b[39mdtype\u001b[39m.\u001b[39mkind \u001b[39min\u001b[39;00m \u001b[39m\"\u001b[39m\u001b[39mUSV\u001b[39m\u001b[39m\"\u001b[39m:\n\u001b[0;32m    910\u001b[0m     \u001b[39mraise\u001b[39;00m \u001b[39mValueError\u001b[39;00m(\n\u001b[0;32m    911\u001b[0m         \u001b[39m\"\u001b[39m\u001b[39mdtype=\u001b[39m\u001b[39m'\u001b[39m\u001b[39mnumeric\u001b[39m\u001b[39m'\u001b[39m\u001b[39m is not compatible with arrays of bytes/strings.\u001b[39m\u001b[39m\"\u001b[39m\n\u001b[0;32m    912\u001b[0m         \u001b[39m\"\u001b[39m\u001b[39mConvert your data to numeric values explicitly instead.\u001b[39m\u001b[39m\"\u001b[39m\n\u001b[0;32m    913\u001b[0m     )\n",
            "\u001b[1;31mValueError\u001b[0m: Expected 2D array, got 1D array instead:\narray=[2.55175000e+07 1.02981571e+08 2.55175000e+07 ... 3.09468700e+06\n 2.81658820e+07 2.14716850e+07].\nReshape your data either using array.reshape(-1, 1) if your data has a single feature or array.reshape(1, -1) if it contains a single sample."
          ]
        }
      ],
      "source": [
        "y_pred = baggingrf.predict(X_test)\n",
        "print(baggingrf.score(y_test,y_pred))"
      ]
    },
    {
      "attachments": {},
      "cell_type": "markdown",
      "metadata": {
        "id": "AE6KMeQ-Uh1Q"
      },
      "source": [
        "### Boosting"
      ]
    },
    {
      "cell_type": "code",
      "execution_count": 26,
      "metadata": {
        "id": "WE9QFvslUh1Q"
      },
      "outputs": [
        {
          "name": "stdout",
          "output_type": "stream",
          "text": [
            "0.6631530409034383\n"
          ]
        }
      ],
      "source": [
        "from sklearn.ensemble import AdaBoostClassifier\n",
        "\n",
        "# Create an AdaBoost classifier with 50 base estimators\n",
        "boostingrf = AdaBoostRegressor(estimator=baggingrf, n_estimators=40)\n",
        "\n",
        "boostingrf.fit(X_train, y_train)\n",
        "\n",
        "# Append the model and score to their respective list\n",
        "print(boostingrf.score(X_test,y_test))"
      ]
    },
    {
      "cell_type": "code",
      "execution_count": 32,
      "metadata": {
        "id": "InSGht3_Uh1Q"
      },
      "outputs": [],
      "source": [
        "dy_pred = boostingrf.predict(X_test)"
      ]
    },
    {
      "attachments": {},
      "cell_type": "markdown",
      "metadata": {
        "id": "dGUz-CLcRjE4"
      },
      "source": [
        "## LinearRegression"
      ]
    },
    {
      "cell_type": "code",
      "execution_count": 29,
      "metadata": {
        "id": "D2WW1xZorry3"
      },
      "outputs": [
        {
          "data": {
            "text/html": [
              "<style>#sk-container-id-2 {color: black;background-color: white;}#sk-container-id-2 pre{padding: 0;}#sk-container-id-2 div.sk-toggleable {background-color: white;}#sk-container-id-2 label.sk-toggleable__label {cursor: pointer;display: block;width: 100%;margin-bottom: 0;padding: 0.3em;box-sizing: border-box;text-align: center;}#sk-container-id-2 label.sk-toggleable__label-arrow:before {content: \"▸\";float: left;margin-right: 0.25em;color: #696969;}#sk-container-id-2 label.sk-toggleable__label-arrow:hover:before {color: black;}#sk-container-id-2 div.sk-estimator:hover label.sk-toggleable__label-arrow:before {color: black;}#sk-container-id-2 div.sk-toggleable__content {max-height: 0;max-width: 0;overflow: hidden;text-align: left;background-color: #f0f8ff;}#sk-container-id-2 div.sk-toggleable__content pre {margin: 0.2em;color: black;border-radius: 0.25em;background-color: #f0f8ff;}#sk-container-id-2 input.sk-toggleable__control:checked~div.sk-toggleable__content {max-height: 200px;max-width: 100%;overflow: auto;}#sk-container-id-2 input.sk-toggleable__control:checked~label.sk-toggleable__label-arrow:before {content: \"▾\";}#sk-container-id-2 div.sk-estimator input.sk-toggleable__control:checked~label.sk-toggleable__label {background-color: #d4ebff;}#sk-container-id-2 div.sk-label input.sk-toggleable__control:checked~label.sk-toggleable__label {background-color: #d4ebff;}#sk-container-id-2 input.sk-hidden--visually {border: 0;clip: rect(1px 1px 1px 1px);clip: rect(1px, 1px, 1px, 1px);height: 1px;margin: -1px;overflow: hidden;padding: 0;position: absolute;width: 1px;}#sk-container-id-2 div.sk-estimator {font-family: monospace;background-color: #f0f8ff;border: 1px dotted black;border-radius: 0.25em;box-sizing: border-box;margin-bottom: 0.5em;}#sk-container-id-2 div.sk-estimator:hover {background-color: #d4ebff;}#sk-container-id-2 div.sk-parallel-item::after {content: \"\";width: 100%;border-bottom: 1px solid gray;flex-grow: 1;}#sk-container-id-2 div.sk-label:hover label.sk-toggleable__label {background-color: #d4ebff;}#sk-container-id-2 div.sk-serial::before {content: \"\";position: absolute;border-left: 1px solid gray;box-sizing: border-box;top: 0;bottom: 0;left: 50%;z-index: 0;}#sk-container-id-2 div.sk-serial {display: flex;flex-direction: column;align-items: center;background-color: white;padding-right: 0.2em;padding-left: 0.2em;position: relative;}#sk-container-id-2 div.sk-item {position: relative;z-index: 1;}#sk-container-id-2 div.sk-parallel {display: flex;align-items: stretch;justify-content: center;background-color: white;position: relative;}#sk-container-id-2 div.sk-item::before, #sk-container-id-2 div.sk-parallel-item::before {content: \"\";position: absolute;border-left: 1px solid gray;box-sizing: border-box;top: 0;bottom: 0;left: 50%;z-index: -1;}#sk-container-id-2 div.sk-parallel-item {display: flex;flex-direction: column;z-index: 1;position: relative;background-color: white;}#sk-container-id-2 div.sk-parallel-item:first-child::after {align-self: flex-end;width: 50%;}#sk-container-id-2 div.sk-parallel-item:last-child::after {align-self: flex-start;width: 50%;}#sk-container-id-2 div.sk-parallel-item:only-child::after {width: 0;}#sk-container-id-2 div.sk-dashed-wrapped {border: 1px dashed gray;margin: 0 0.4em 0.5em 0.4em;box-sizing: border-box;padding-bottom: 0.4em;background-color: white;}#sk-container-id-2 div.sk-label label {font-family: monospace;font-weight: bold;display: inline-block;line-height: 1.2em;}#sk-container-id-2 div.sk-label-container {text-align: center;}#sk-container-id-2 div.sk-container {/* jupyter's `normalize.less` sets `[hidden] { display: none; }` but bootstrap.min.css set `[hidden] { display: none !important; }` so we also need the `!important` here to be able to override the default hidden behavior on the sphinx rendered scikit-learn.org. See: https://github.com/scikit-learn/scikit-learn/issues/21755 */display: inline-block !important;position: relative;}#sk-container-id-2 div.sk-text-repr-fallback {display: none;}</style><div id=\"sk-container-id-2\" class=\"sk-top-container\"><div class=\"sk-text-repr-fallback\"><pre>LinearRegression()</pre><b>In a Jupyter environment, please rerun this cell to show the HTML representation or trust the notebook. <br />On GitHub, the HTML representation is unable to render, please try loading this page with nbviewer.org.</b></div><div class=\"sk-container\" hidden><div class=\"sk-item\"><div class=\"sk-estimator sk-toggleable\"><input class=\"sk-toggleable__control sk-hidden--visually\" id=\"sk-estimator-id-4\" type=\"checkbox\" checked><label for=\"sk-estimator-id-4\" class=\"sk-toggleable__label sk-toggleable__label-arrow\">LinearRegression</label><div class=\"sk-toggleable__content\"><pre>LinearRegression()</pre></div></div></div></div></div>"
            ],
            "text/plain": [
              "LinearRegression()"
            ]
          },
          "execution_count": 29,
          "metadata": {},
          "output_type": "execute_result"
        }
      ],
      "source": [
        "from sklearn.linear_model import LinearRegression\n",
        "reg=LinearRegression()\n",
        "reg.fit(X_train,y_train)"
      ]
    },
    {
      "cell_type": "code",
      "execution_count": 30,
      "metadata": {
        "id": "RWSQJXv7TQqD"
      },
      "outputs": [
        {
          "name": "stdout",
          "output_type": "stream",
          "text": [
            "0.5188206052619975\n"
          ]
        }
      ],
      "source": [
        "print(reg.score(X_test,y_test))"
      ]
    },
    {
      "cell_type": "markdown",
      "metadata": {
        "id": "I8P1SZc3UR8p"
      },
      "source": [
        "###Bagging"
      ]
    },
    {
      "cell_type": "code",
      "execution_count": 31,
      "metadata": {
        "id": "yqaYs3HiUR8q"
      },
      "outputs": [
        {
          "name": "stdout",
          "output_type": "stream",
          "text": [
            "0.46699593530675987\n"
          ]
        }
      ],
      "source": [
        "from sklearn.metrics import accuracy_score\n",
        "import matplotlib.pyplot as plt\n",
        "from sklearn import model_selection\n",
        "\n",
        "# Create bagging classifier\n",
        "baggingreg = BaggingRegressor(estimator= reg,n_estimators = 40, random_state = 50)\n",
        "\n",
        "# Fit the model\n",
        "baggingreg.fit(X_train, y_train)\n",
        "\n",
        "# Append the model and score to their respective list\n",
        "print(baggingreg.score(X_test,y_test))\n"
      ]
    },
    {
      "cell_type": "markdown",
      "metadata": {
        "id": "X6dy0aKQUZ0y"
      },
      "source": [
        "###Boosting"
      ]
    },
    {
      "cell_type": "code",
      "execution_count": 34,
      "metadata": {
        "id": "TIcyhTJBUZ0z"
      },
      "outputs": [
        {
          "name": "stdout",
          "output_type": "stream",
          "text": [
            "0.42686788622694616\n"
          ]
        }
      ],
      "source": [
        "from sklearn.ensemble import AdaBoostClassifier\n",
        "\n",
        "# Create an AdaBoost classifier with 50 base estimators\n",
        "boostingreg = AdaBoostRegressor(estimator=baggingreg, n_estimators=40)\n",
        "\n",
        "boostingreg.fit(X_train, y_train)\n",
        "\n",
        "# Append the model and score to their respective list\n",
        "print(boostingreg.score(X_test,y_test))"
      ]
    },
    {
      "cell_type": "code",
      "execution_count": null,
      "metadata": {
        "id": "mEIRD-y9UZ0z"
      },
      "outputs": [],
      "source": [
        "y_pred = boostingreg.predict(X_test)"
      ]
    },
    {
      "cell_type": "markdown",
      "metadata": {
        "id": "kEQVAcO2RwT_"
      },
      "source": [
        "##DecisionTreeRegressor"
      ]
    },
    {
      "cell_type": "code",
      "execution_count": 35,
      "metadata": {
        "id": "aq2x7Np0rry3"
      },
      "outputs": [],
      "source": [
        "from sklearn.metrics import classification_report\n",
        "from sklearn.tree import DecisionTreeRegressor\n",
        "\n",
        "\n",
        "DT_entropy = DecisionTreeRegressor(random_state=50)"
      ]
    },
    {
      "cell_type": "markdown",
      "metadata": {
        "id": "6VkC3URVItLn"
      },
      "source": [
        "###Bagging"
      ]
    },
    {
      "cell_type": "code",
      "execution_count": 36,
      "metadata": {
        "id": "2Dt4ElfHItLn"
      },
      "outputs": [],
      "source": [
        "from sklearn.metrics import accuracy_score\n",
        "from sklearn.ensemble import BaggingClassifier\n",
        "import matplotlib.pyplot as plt\n",
        "from sklearn import model_selection"
      ]
    },
    {
      "cell_type": "code",
      "execution_count": 37,
      "metadata": {
        "id": "gSNVbQK3ItLo"
      },
      "outputs": [
        {
          "name": "stdout",
          "output_type": "stream",
          "text": [
            "0.6436664379192775\n"
          ]
        }
      ],
      "source": [
        "# Create bagging classifier\n",
        "baggingdt = BaggingRegressor(estimator= DT_entropy,n_estimators = 40, random_state = 50)\n",
        "\n",
        "# Fit the model\n",
        "baggingdt.fit(X_train, y_train)\n",
        "\n",
        "# Append the model and score to their respective list\n",
        "print(baggingdt.score(X_test,y_test))\n"
      ]
    },
    {
      "cell_type": "markdown",
      "metadata": {
        "id": "AadMj-tdJFH2"
      },
      "source": [
        "###Boosting"
      ]
    },
    {
      "cell_type": "code",
      "execution_count": 38,
      "metadata": {
        "id": "z3DkagH6JFH3"
      },
      "outputs": [
        {
          "name": "stdout",
          "output_type": "stream",
          "text": [
            "0.6436664379192775\n"
          ]
        }
      ],
      "source": [
        "from sklearn.ensemble import AdaBoostClassifier\n",
        "\n",
        "# Create an AdaBoost classifier with 50 base estimators\n",
        "boostingdt = AdaBoostRegressor(estimator=baggingdt, n_estimators=40)\n",
        "\n",
        "boostingdt.fit(X_train, y_train)\n",
        "\n",
        "# Append the model and score to their respective list\n",
        "print(baggingdt.score(X_test,y_test))"
      ]
    },
    {
      "cell_type": "code",
      "execution_count": null,
      "metadata": {
        "id": "CxVL4mhqJFH3"
      },
      "outputs": [],
      "source": [
        "y_pred = boostingdt.predict(X_test)"
      ]
    },
    {
      "attachments": {},
      "cell_type": "markdown",
      "metadata": {
        "id": "kMhDr1AjR5Xg"
      },
      "source": [
        "## SVM"
      ]
    },
    {
      "cell_type": "code",
      "execution_count": 39,
      "metadata": {
        "id": "z2u0mwf3rry6"
      },
      "outputs": [],
      "source": [
        "#SVM\n",
        "\n",
        "from sklearn import svm\n",
        "\n",
        "sv = svm.SVR(kernel='rbf', C=1)"
      ]
    },
    {
      "attachments": {},
      "cell_type": "markdown",
      "metadata": {
        "id": "4tWhuIvLSYGh"
      },
      "source": [
        "### Bagging"
      ]
    },
    {
      "cell_type": "code",
      "execution_count": 40,
      "metadata": {
        "id": "b2XHym_9SOC9"
      },
      "outputs": [
        {
          "data": {
            "text/html": [
              "<style>#sk-container-id-3 {color: black;background-color: white;}#sk-container-id-3 pre{padding: 0;}#sk-container-id-3 div.sk-toggleable {background-color: white;}#sk-container-id-3 label.sk-toggleable__label {cursor: pointer;display: block;width: 100%;margin-bottom: 0;padding: 0.3em;box-sizing: border-box;text-align: center;}#sk-container-id-3 label.sk-toggleable__label-arrow:before {content: \"▸\";float: left;margin-right: 0.25em;color: #696969;}#sk-container-id-3 label.sk-toggleable__label-arrow:hover:before {color: black;}#sk-container-id-3 div.sk-estimator:hover label.sk-toggleable__label-arrow:before {color: black;}#sk-container-id-3 div.sk-toggleable__content {max-height: 0;max-width: 0;overflow: hidden;text-align: left;background-color: #f0f8ff;}#sk-container-id-3 div.sk-toggleable__content pre {margin: 0.2em;color: black;border-radius: 0.25em;background-color: #f0f8ff;}#sk-container-id-3 input.sk-toggleable__control:checked~div.sk-toggleable__content {max-height: 200px;max-width: 100%;overflow: auto;}#sk-container-id-3 input.sk-toggleable__control:checked~label.sk-toggleable__label-arrow:before {content: \"▾\";}#sk-container-id-3 div.sk-estimator input.sk-toggleable__control:checked~label.sk-toggleable__label {background-color: #d4ebff;}#sk-container-id-3 div.sk-label input.sk-toggleable__control:checked~label.sk-toggleable__label {background-color: #d4ebff;}#sk-container-id-3 input.sk-hidden--visually {border: 0;clip: rect(1px 1px 1px 1px);clip: rect(1px, 1px, 1px, 1px);height: 1px;margin: -1px;overflow: hidden;padding: 0;position: absolute;width: 1px;}#sk-container-id-3 div.sk-estimator {font-family: monospace;background-color: #f0f8ff;border: 1px dotted black;border-radius: 0.25em;box-sizing: border-box;margin-bottom: 0.5em;}#sk-container-id-3 div.sk-estimator:hover {background-color: #d4ebff;}#sk-container-id-3 div.sk-parallel-item::after {content: \"\";width: 100%;border-bottom: 1px solid gray;flex-grow: 1;}#sk-container-id-3 div.sk-label:hover label.sk-toggleable__label {background-color: #d4ebff;}#sk-container-id-3 div.sk-serial::before {content: \"\";position: absolute;border-left: 1px solid gray;box-sizing: border-box;top: 0;bottom: 0;left: 50%;z-index: 0;}#sk-container-id-3 div.sk-serial {display: flex;flex-direction: column;align-items: center;background-color: white;padding-right: 0.2em;padding-left: 0.2em;position: relative;}#sk-container-id-3 div.sk-item {position: relative;z-index: 1;}#sk-container-id-3 div.sk-parallel {display: flex;align-items: stretch;justify-content: center;background-color: white;position: relative;}#sk-container-id-3 div.sk-item::before, #sk-container-id-3 div.sk-parallel-item::before {content: \"\";position: absolute;border-left: 1px solid gray;box-sizing: border-box;top: 0;bottom: 0;left: 50%;z-index: -1;}#sk-container-id-3 div.sk-parallel-item {display: flex;flex-direction: column;z-index: 1;position: relative;background-color: white;}#sk-container-id-3 div.sk-parallel-item:first-child::after {align-self: flex-end;width: 50%;}#sk-container-id-3 div.sk-parallel-item:last-child::after {align-self: flex-start;width: 50%;}#sk-container-id-3 div.sk-parallel-item:only-child::after {width: 0;}#sk-container-id-3 div.sk-dashed-wrapped {border: 1px dashed gray;margin: 0 0.4em 0.5em 0.4em;box-sizing: border-box;padding-bottom: 0.4em;background-color: white;}#sk-container-id-3 div.sk-label label {font-family: monospace;font-weight: bold;display: inline-block;line-height: 1.2em;}#sk-container-id-3 div.sk-label-container {text-align: center;}#sk-container-id-3 div.sk-container {/* jupyter's `normalize.less` sets `[hidden] { display: none; }` but bootstrap.min.css set `[hidden] { display: none !important; }` so we also need the `!important` here to be able to override the default hidden behavior on the sphinx rendered scikit-learn.org. See: https://github.com/scikit-learn/scikit-learn/issues/21755 */display: inline-block !important;position: relative;}#sk-container-id-3 div.sk-text-repr-fallback {display: none;}</style><div id=\"sk-container-id-3\" class=\"sk-top-container\"><div class=\"sk-text-repr-fallback\"><pre>BaggingRegressor(estimator=SVR(C=1), n_estimators=40, random_state=50)</pre><b>In a Jupyter environment, please rerun this cell to show the HTML representation or trust the notebook. <br />On GitHub, the HTML representation is unable to render, please try loading this page with nbviewer.org.</b></div><div class=\"sk-container\" hidden><div class=\"sk-item sk-dashed-wrapped\"><div class=\"sk-label-container\"><div class=\"sk-label sk-toggleable\"><input class=\"sk-toggleable__control sk-hidden--visually\" id=\"sk-estimator-id-5\" type=\"checkbox\" ><label for=\"sk-estimator-id-5\" class=\"sk-toggleable__label sk-toggleable__label-arrow\">BaggingRegressor</label><div class=\"sk-toggleable__content\"><pre>BaggingRegressor(estimator=SVR(C=1), n_estimators=40, random_state=50)</pre></div></div></div><div class=\"sk-parallel\"><div class=\"sk-parallel-item\"><div class=\"sk-item\"><div class=\"sk-label-container\"><div class=\"sk-label sk-toggleable\"><input class=\"sk-toggleable__control sk-hidden--visually\" id=\"sk-estimator-id-6\" type=\"checkbox\" ><label for=\"sk-estimator-id-6\" class=\"sk-toggleable__label sk-toggleable__label-arrow\">estimator: SVR</label><div class=\"sk-toggleable__content\"><pre>SVR(C=1)</pre></div></div></div><div class=\"sk-serial\"><div class=\"sk-item\"><div class=\"sk-estimator sk-toggleable\"><input class=\"sk-toggleable__control sk-hidden--visually\" id=\"sk-estimator-id-7\" type=\"checkbox\" ><label for=\"sk-estimator-id-7\" class=\"sk-toggleable__label sk-toggleable__label-arrow\">SVR</label><div class=\"sk-toggleable__content\"><pre>SVR(C=1)</pre></div></div></div></div></div></div></div></div></div></div>"
            ],
            "text/plain": [
              "BaggingRegressor(estimator=SVR(C=1), n_estimators=40, random_state=50)"
            ]
          },
          "execution_count": 40,
          "metadata": {},
          "output_type": "execute_result"
        }
      ],
      "source": [
        "from sklearn.metrics import accuracy_score\n",
        "from sklearn.ensemble import BaggingClassifier\n",
        "import matplotlib.pyplot as plt\n",
        "from sklearn import model_selection\n",
        "\n",
        "# Create bagging classifier\n",
        "baggingsvm = BaggingRegressor(estimator= sv,n_estimators = 40, random_state = 50)\n",
        "\n",
        "# Fit the model\n",
        "baggingsvm.fit(X_train, y_train)\n",
        "\n",
        "\n"
      ]
    },
    {
      "cell_type": "code",
      "execution_count": 41,
      "metadata": {},
      "outputs": [
        {
          "name": "stdout",
          "output_type": "stream",
          "text": [
            "-0.07718529117767625\n"
          ]
        }
      ],
      "source": [
        "# Append the model and score to their respective list\n",
        "print(baggingsvm.score(X_test,y_test))"
      ]
    },
    {
      "attachments": {},
      "cell_type": "markdown",
      "metadata": {
        "id": "Ef_aXHHhSo4R"
      },
      "source": [
        "### Boosting"
      ]
    },
    {
      "cell_type": "code",
      "execution_count": 42,
      "metadata": {
        "id": "VIQrjZrfSOAW"
      },
      "outputs": [
        {
          "data": {
            "text/html": [
              "<style>#sk-container-id-4 {color: black;background-color: white;}#sk-container-id-4 pre{padding: 0;}#sk-container-id-4 div.sk-toggleable {background-color: white;}#sk-container-id-4 label.sk-toggleable__label {cursor: pointer;display: block;width: 100%;margin-bottom: 0;padding: 0.3em;box-sizing: border-box;text-align: center;}#sk-container-id-4 label.sk-toggleable__label-arrow:before {content: \"▸\";float: left;margin-right: 0.25em;color: #696969;}#sk-container-id-4 label.sk-toggleable__label-arrow:hover:before {color: black;}#sk-container-id-4 div.sk-estimator:hover label.sk-toggleable__label-arrow:before {color: black;}#sk-container-id-4 div.sk-toggleable__content {max-height: 0;max-width: 0;overflow: hidden;text-align: left;background-color: #f0f8ff;}#sk-container-id-4 div.sk-toggleable__content pre {margin: 0.2em;color: black;border-radius: 0.25em;background-color: #f0f8ff;}#sk-container-id-4 input.sk-toggleable__control:checked~div.sk-toggleable__content {max-height: 200px;max-width: 100%;overflow: auto;}#sk-container-id-4 input.sk-toggleable__control:checked~label.sk-toggleable__label-arrow:before {content: \"▾\";}#sk-container-id-4 div.sk-estimator input.sk-toggleable__control:checked~label.sk-toggleable__label {background-color: #d4ebff;}#sk-container-id-4 div.sk-label input.sk-toggleable__control:checked~label.sk-toggleable__label {background-color: #d4ebff;}#sk-container-id-4 input.sk-hidden--visually {border: 0;clip: rect(1px 1px 1px 1px);clip: rect(1px, 1px, 1px, 1px);height: 1px;margin: -1px;overflow: hidden;padding: 0;position: absolute;width: 1px;}#sk-container-id-4 div.sk-estimator {font-family: monospace;background-color: #f0f8ff;border: 1px dotted black;border-radius: 0.25em;box-sizing: border-box;margin-bottom: 0.5em;}#sk-container-id-4 div.sk-estimator:hover {background-color: #d4ebff;}#sk-container-id-4 div.sk-parallel-item::after {content: \"\";width: 100%;border-bottom: 1px solid gray;flex-grow: 1;}#sk-container-id-4 div.sk-label:hover label.sk-toggleable__label {background-color: #d4ebff;}#sk-container-id-4 div.sk-serial::before {content: \"\";position: absolute;border-left: 1px solid gray;box-sizing: border-box;top: 0;bottom: 0;left: 50%;z-index: 0;}#sk-container-id-4 div.sk-serial {display: flex;flex-direction: column;align-items: center;background-color: white;padding-right: 0.2em;padding-left: 0.2em;position: relative;}#sk-container-id-4 div.sk-item {position: relative;z-index: 1;}#sk-container-id-4 div.sk-parallel {display: flex;align-items: stretch;justify-content: center;background-color: white;position: relative;}#sk-container-id-4 div.sk-item::before, #sk-container-id-4 div.sk-parallel-item::before {content: \"\";position: absolute;border-left: 1px solid gray;box-sizing: border-box;top: 0;bottom: 0;left: 50%;z-index: -1;}#sk-container-id-4 div.sk-parallel-item {display: flex;flex-direction: column;z-index: 1;position: relative;background-color: white;}#sk-container-id-4 div.sk-parallel-item:first-child::after {align-self: flex-end;width: 50%;}#sk-container-id-4 div.sk-parallel-item:last-child::after {align-self: flex-start;width: 50%;}#sk-container-id-4 div.sk-parallel-item:only-child::after {width: 0;}#sk-container-id-4 div.sk-dashed-wrapped {border: 1px dashed gray;margin: 0 0.4em 0.5em 0.4em;box-sizing: border-box;padding-bottom: 0.4em;background-color: white;}#sk-container-id-4 div.sk-label label {font-family: monospace;font-weight: bold;display: inline-block;line-height: 1.2em;}#sk-container-id-4 div.sk-label-container {text-align: center;}#sk-container-id-4 div.sk-container {/* jupyter's `normalize.less` sets `[hidden] { display: none; }` but bootstrap.min.css set `[hidden] { display: none !important; }` so we also need the `!important` here to be able to override the default hidden behavior on the sphinx rendered scikit-learn.org. See: https://github.com/scikit-learn/scikit-learn/issues/21755 */display: inline-block !important;position: relative;}#sk-container-id-4 div.sk-text-repr-fallback {display: none;}</style><div id=\"sk-container-id-4\" class=\"sk-top-container\"><div class=\"sk-text-repr-fallback\"><pre>AdaBoostRegressor(estimator=BaggingRegressor(estimator=SVR(C=1),\n",
              "                                             n_estimators=40, random_state=50),\n",
              "                  n_estimators=40)</pre><b>In a Jupyter environment, please rerun this cell to show the HTML representation or trust the notebook. <br />On GitHub, the HTML representation is unable to render, please try loading this page with nbviewer.org.</b></div><div class=\"sk-container\" hidden><div class=\"sk-item sk-dashed-wrapped\"><div class=\"sk-label-container\"><div class=\"sk-label sk-toggleable\"><input class=\"sk-toggleable__control sk-hidden--visually\" id=\"sk-estimator-id-8\" type=\"checkbox\" ><label for=\"sk-estimator-id-8\" class=\"sk-toggleable__label sk-toggleable__label-arrow\">AdaBoostRegressor</label><div class=\"sk-toggleable__content\"><pre>AdaBoostRegressor(estimator=BaggingRegressor(estimator=SVR(C=1),\n",
              "                                             n_estimators=40, random_state=50),\n",
              "                  n_estimators=40)</pre></div></div></div><div class=\"sk-parallel\"><div class=\"sk-parallel-item\"><div class=\"sk-item\"><div class=\"sk-label-container\"><div class=\"sk-label sk-toggleable\"><input class=\"sk-toggleable__control sk-hidden--visually\" id=\"sk-estimator-id-9\" type=\"checkbox\" ><label for=\"sk-estimator-id-9\" class=\"sk-toggleable__label sk-toggleable__label-arrow\">estimator: BaggingRegressor</label><div class=\"sk-toggleable__content\"><pre>BaggingRegressor(estimator=SVR(C=1), n_estimators=40, random_state=50)</pre></div></div></div><div class=\"sk-serial\"><div class=\"sk-item sk-dashed-wrapped\"><div class=\"sk-parallel\"><div class=\"sk-parallel-item\"><div class=\"sk-item\"><div class=\"sk-label-container\"><div class=\"sk-label sk-toggleable\"><input class=\"sk-toggleable__control sk-hidden--visually\" id=\"sk-estimator-id-10\" type=\"checkbox\" ><label for=\"sk-estimator-id-10\" class=\"sk-toggleable__label sk-toggleable__label-arrow\">estimator: SVR</label><div class=\"sk-toggleable__content\"><pre>SVR(C=1)</pre></div></div></div><div class=\"sk-serial\"><div class=\"sk-item\"><div class=\"sk-estimator sk-toggleable\"><input class=\"sk-toggleable__control sk-hidden--visually\" id=\"sk-estimator-id-11\" type=\"checkbox\" ><label for=\"sk-estimator-id-11\" class=\"sk-toggleable__label sk-toggleable__label-arrow\">SVR</label><div class=\"sk-toggleable__content\"><pre>SVR(C=1)</pre></div></div></div></div></div></div></div></div></div></div></div></div></div></div></div>"
            ],
            "text/plain": [
              "AdaBoostRegressor(estimator=BaggingRegressor(estimator=SVR(C=1),\n",
              "                                             n_estimators=40, random_state=50),\n",
              "                  n_estimators=40)"
            ]
          },
          "execution_count": 42,
          "metadata": {},
          "output_type": "execute_result"
        }
      ],
      "source": [
        "from sklearn.ensemble import AdaBoostClassifier\n",
        "\n",
        "# Create an AdaBoost classifier with 50 base estimators\n",
        "boostingsvm = AdaBoostRegressor(estimator=baggingsvm, n_estimators=40)\n",
        "\n",
        "boostingsvm.fit(X_train, y_train)\n",
        "\n"
      ]
    },
    {
      "cell_type": "code",
      "execution_count": 43,
      "metadata": {},
      "outputs": [
        {
          "name": "stdout",
          "output_type": "stream",
          "text": [
            "-0.07718529117767625\n"
          ]
        }
      ],
      "source": [
        "# Append the model and score to their respective list\n",
        "print(baggingsvm.score(X_test,y_test))"
      ]
    },
    {
      "cell_type": "code",
      "execution_count": null,
      "metadata": {
        "id": "pgLeVKVCSN6d"
      },
      "outputs": [],
      "source": [
        "y_pred = boostingsvm.predict(X_test)"
      ]
    },
    {
      "attachments": {},
      "cell_type": "markdown",
      "metadata": {
        "id": "WX-XxU8fb_iX"
      },
      "source": [
        "## Voting"
      ]
    },
    {
      "cell_type": "code",
      "execution_count": 44,
      "metadata": {
        "id": "J6tHrLzlcBTQ"
      },
      "outputs": [],
      "source": [
        "voting_regressor = VotingRegressor(estimators=[('boostingrf', boostingrf),('boostingreg', boostingreg), ('boostingdt', boostingdt), ('boostingsvm', boostingsvm)])\n",
        "voting_regressor.fit(X_train, y_train)\n",
        "y_pred = voting_regressor.predict(X_test)\n",
        "mse_voting = mean_squared_error(y_test, y_pred)"
      ]
    },
    {
      "cell_type": "code",
      "execution_count": null,
      "metadata": {
        "id": "iuf9aWUQSN4D"
      },
      "outputs": [],
      "source": []
    },
    {
      "attachments": {},
      "cell_type": "markdown",
      "metadata": {},
      "source": [
        "## Loading the Model"
      ]
    },
    {
      "cell_type": "code",
      "execution_count": 2,
      "metadata": {
        "id": "oA43pm28SN1k"
      },
      "outputs": [],
      "source": [
        "import pickle"
      ]
    },
    {
      "cell_type": "code",
      "execution_count": 47,
      "metadata": {
        "id": "5nR7IEy2SNyw"
      },
      "outputs": [],
      "source": [
        "# save the model as a file\n",
        "with open('model.pkl', 'wb') as file:\n",
        "    pickle.dump(boostingrf, file)"
      ]
    },
    {
      "cell_type": "code",
      "execution_count": 3,
      "metadata": {
        "id": "3pVJTRwmSNv_"
      },
      "outputs": [],
      "source": [
        "model = pickle.load(open('C:/Users/cyril/OneDrive/Pictures/SEM 6/assignment/Web Mining/Project/Works/model.pkl', 'rb'))"
      ]
    },
    {
      "attachments": {},
      "cell_type": "markdown",
      "metadata": {},
      "source": [
        "## Predicting the Output From The User Input"
      ]
    },
    {
      "attachments": {
        "image.png": {
          "image/png": "[encoded data removed]"
        }
      },
      "cell_type": "markdown",
      "metadata": {},
      "source": [
        "![image.png](attachment:image.png)"
      ]
    },
    {
      "cell_type": "code",
      "execution_count": 78,
      "metadata": {},
      "outputs": [],
      "source": [
        "from sklearn import preprocessing\n",
        "label_encoder = preprocessing.LabelEncoder()"
      ]
    },
    {
      "cell_type": "code",
      "execution_count": 79,
      "metadata": {},
      "outputs": [],
      "source": [
        "import numpy as np"
      ]
    },
    {
      "cell_type": "code",
      "execution_count": 80,
      "metadata": {},
      "outputs": [],
      "source": [
        "import pandas as pd\n",
        "\n",
        "# Load the dataset\n",
        "df1 = pd.read_csv(\"C:/Users/cyril/OneDrive/Pictures/SEM 6/assignment/Web Mining/Project/Works/movie_metadata.csv/movie_metadata.csv\")\n"
      ]
    },
    {
      "cell_type": "code",
      "execution_count": 81,
      "metadata": {},
      "outputs": [
        {
          "name": "stdout",
          "output_type": "stream",
          "text": [
            "['Action|Adventure|Fantasy|Sci-Fi' 'Action|Adventure|Fantasy'\n",
            " 'Action|Adventure|Thriller' 'Action|Thriller' 'Documentary'\n",
            " 'Action|Adventure|Sci-Fi' 'Action|Adventure|Romance'\n",
            " 'Adventure|Animation|Comedy|Family|Fantasy|Musical|Romance'\n",
            " 'Adventure|Family|Fantasy|Mystery' 'Action|Adventure'\n",
            " 'Action|Adventure|Western' 'Action|Adventure|Family|Fantasy'\n",
            " 'Action|Adventure|Comedy|Family|Fantasy|Sci-Fi' 'Adventure|Fantasy'\n",
            " 'Action|Adventure|Drama|History' 'Adventure|Family|Fantasy'\n",
            " 'Action|Adventure|Drama|Romance' 'Drama|Romance'\n",
            " 'Action|Adventure|Sci-Fi|Thriller' 'Action|Adventure|Fantasy|Romance'\n",
            " 'Action|Adventure|Fantasy|Sci-Fi|Thriller'\n",
            " 'Adventure|Animation|Comedy|Family|Fantasy'\n",
            " 'Adventure|Animation|Comedy|Family|Sport' 'Action|Crime|Thriller'\n",
            " 'Action|Adventure|Horror|Sci-Fi|Thriller'\n",
            " 'Adventure|Animation|Family|Sci-Fi' 'Action|Comedy|Crime|Thriller'\n",
            " 'Animation|Drama|Family|Fantasy' 'Action|Crime|Drama|Thriller'\n",
            " 'Adventure|Animation|Comedy|Family'\n",
            " 'Action|Adventure|Animation|Comedy|Family|Sci-Fi'\n",
            " 'Adventure|Drama|Family|Mystery' 'Action|Comedy|Sci-Fi|Western'\n",
            " 'Action|Adventure|Fantasy|Horror|Thriller'\n",
            " 'Action|Adventure|Comedy|Sci-Fi' 'Comedy|Family|Fantasy'\n",
            " 'Adventure|Animation|Comedy|Drama|Family|Fantasy'\n",
            " 'Adventure|Drama|Family|Fantasy' 'Action|Adventure|Drama|Fantasy'\n",
            " 'Action|Adventure|Family|Fantasy|Romance' 'Action|Adventure|Drama|Sci-Fi'\n",
            " 'Action|Adventure|Romance|Sci-Fi'\n",
            " 'Action|Adventure|Family|Mystery|Sci-Fi'\n",
            " 'Action|Adventure|Animation|Comedy|Drama|Family|Sci-Fi'\n",
            " 'Adventure|Animation|Comedy|Family|Sci-Fi'\n",
            " 'Adventure|Animation|Family|Fantasy' 'Action|Sci-Fi'\n",
            " 'Adventure|Drama|Sci-Fi' 'Action|Adventure|Drama|Horror|Sci-Fi'\n",
            " 'Drama|Fantasy|Romance' 'Adventure|Sci-Fi'\n",
            " 'Action|Adventure|Drama|Thriller' 'Action|Drama|History|Romance|War'\n",
            " 'Action|Adventure|Biography|Drama|History|Romance|War' 'Action|Drama'\n",
            " 'Drama|Horror|Sci-Fi' 'Adventure|Comedy|Family|Fantasy'\n",
            " 'Animation|Comedy|Family|Fantasy'\n",
            " 'Action|Adventure|Animation|Comedy|Family'\n",
            " 'Adventure|Animation|Comedy|Family|Fantasy|Musical' 'Mystery|Thriller'\n",
            " 'Adventure|Animation|Comedy|Drama|Family'\n",
            " 'Action|Adventure|Animation|Comedy|Family|Fantasy|Sci-Fi'\n",
            " 'Comedy|Fantasy|Horror' 'Drama|Fantasy|Horror|Thriller'\n",
            " 'Action|Drama|Thriller' 'Adventure' 'Action|Comedy|Fantasy|Sci-Fi'\n",
            " 'Action|Adventure|Comedy|Family|Fantasy|Mystery|Sci-Fi'\n",
            " 'Action|Adventure|Animation|Fantasy' 'Comedy|Crime'\n",
            " 'Action|Drama|History|War' 'Action|Adventure|Drama'\n",
            " 'Action|Adventure|Animation|Comedy|Family|Fantasy'\n",
            " 'Action|Drama|Mystery|Sci-Fi' 'Action|Adventure|Comedy|Thriller'\n",
            " 'Action|Adventure|Animation|Fantasy|Romance|Sci-Fi'\n",
            " 'Action|Adventure|Drama|History|War' 'Adventure|Drama|Fantasy|Romance'\n",
            " 'Animation|Comedy|Family|Musical' 'Action|Crime|Drama|Mystery|Thriller'\n",
            " 'Adventure|Drama|Thriller|Western'\n",
            " 'Adventure|Animation|Comedy|Family|Western' 'Action|Mystery|Thriller'\n",
            " 'Adventure|Sci-Fi|Thriller'\n",
            " 'Adventure|Animation|Comedy|Family|Fantasy|Sci-Fi'\n",
            " 'Action|Crime|Mystery|Thriller' 'Action|Adventure|Family|Mystery'\n",
            " 'Adventure|Drama|Romance|War' 'Adventure|Animation|Family|Thriller'\n",
            " 'Action|Fantasy' 'Action|Animation|Comedy|Family|Sci-Fi'\n",
            " 'Action|Comedy|Fantasy' 'Fantasy'\n",
            " 'Adventure|Animation|Comedy|Family|Musical'\n",
            " 'Action|Adventure|Crime|Mystery|Thriller' 'Action|Adventure|History'\n",
            " 'Action' 'Adventure|Drama|Fantasy' 'Action|Fantasy|Thriller'\n",
            " 'Action|Adventure|Comedy|Crime' 'Adventure|Mystery|Sci-Fi'\n",
            " 'Action|Drama|Sci-Fi|Thriller' 'Action|Crime|Sci-Fi|Thriller'\n",
            " 'Action|Family|Sport' 'Comedy|Drama|Romance' 'Action|Comedy|Romance'\n",
            " 'Action|Adventure|Mystery|Sci-Fi' 'Action|Drama|War'\n",
            " 'Adventure|Drama|Sci-Fi|Thriller'\n",
            " 'Action|Adventure|Comedy|Family|Fantasy' 'Crime|Thriller'\n",
            " 'Action|Comedy|Crime|Romance|Thriller' 'Biography|Drama'\n",
            " 'Action|Comedy|Crime|Sci-Fi|Thriller' 'Action|Adventure|Crime'\n",
            " 'Action|Drama|Fantasy|War' 'Animation|Comedy|Family|Music|Western'\n",
            " 'Action|Adventure|Mystery|Sci-Fi|Thriller' 'Action|Drama|Sci-Fi|Sport'\n",
            " 'Action|Crime|Romance|Thriller' 'Action|Adventure|Comedy'\n",
            " 'Biography|Drama|Sport' 'Action|Mystery|Sci-Fi|Thriller'\n",
            " 'Animation|Family|Fantasy|Musical|Romance' 'Comedy'\n",
            " 'Action|Adventure|Romance|Sci-Fi|Thriller' 'Comedy|Romance'\n",
            " 'Action|Drama|Romance' 'Biography|Crime|Drama|History|Romance'\n",
            " 'Biography|Crime|Drama' 'Action|Comedy|Thriller' 'Action|Comedy|Crime'\n",
            " 'Action|Drama|Mystery|Thriller' 'Drama|Western'\n",
            " 'Animation|Drama|Family|Musical|Romance'\n",
            " 'Action|Adventure|Comedy|Family|Mystery' 'Action|Romance|Thriller'\n",
            " 'Action|Fantasy|Horror|Mystery' 'Adventure|Drama|Thriller'\n",
            " 'Biography|Comedy|Crime|Drama' 'Action|Sci-Fi|War' 'Drama|Sci-Fi'\n",
            " 'Action|Adventure|Animation|Family|Fantasy'\n",
            " 'Action|Crime|Fantasy|Romance|Thriller' 'Adventure|Comedy|Sci-Fi'\n",
            " 'Action|Crime|Sport|Thriller'\n",
            " 'Action|Adventure|Biography|Drama|History|Thriller'\n",
            " 'Action|Comedy|Sci-Fi' 'Action|Drama|Thriller|War'\n",
            " 'Drama|Mystery|Thriller' 'Action|Adventure|Fantasy|Thriller'\n",
            " 'Crime|Drama' 'Drama|History|Romance|War' 'Animation|Comedy|Family|Sport'\n",
            " 'Comedy|Sci-Fi|Thriller' 'Drama|History|War'\n",
            " 'Adventure|Animation|Comedy|Family|Romance'\n",
            " 'Drama|Family|Fantasy|Romance' 'Drama|Fantasy|Thriller'\n",
            " 'Drama|Mystery|Romance|Sci-Fi|Thriller' 'Drama|History|War|Western'\n",
            " 'Action|Adventure|Animation|Family'\n",
            " 'Adventure|Comedy|Family|Mystery|Sci-Fi'\n",
            " 'Drama|Fantasy|Horror|Mystery|Thriller' 'Animation|Comedy|Family|Sci-Fi'\n",
            " 'Adventure|Comedy|Drama|Fantasy|Romance'\n",
            " 'Action|Adventure|Comedy|Crime|Thriller' 'Crime|Drama|Thriller'\n",
            " 'Adventure|Animation|Family|Fantasy|Musical|War' 'Action|Comedy'\n",
            " 'Crime|Drama|Mystery|Thriller' 'Adventure|Drama|History'\n",
            " 'Action|Adventure|Animation|Family|Fantasy|Sci-Fi'\n",
            " 'Adventure|Animation|Comedy|Family|Fantasy|Music'\n",
            " 'Drama|History|Thriller|War' 'Action|Animation|Comedy|Sci-Fi'\n",
            " 'Comedy|Family|Fantasy|Horror|Mystery' 'Drama|Mystery|Sci-Fi|Thriller'\n",
            " 'Action|Horror|Sci-Fi|Thriller' 'Crime|Mystery|Thriller'\n",
            " 'Action|Adventure|Comedy|Crime|Mystery|Thriller' 'Comedy|Drama|Sci-Fi'\n",
            " 'Action|Family|Fantasy|Musical' 'Drama|History|Sport'\n",
            " 'Adventure|Drama|Romance' 'Animation|Comedy|Family|Music|Romance'\n",
            " 'Animation|Comedy|Family|Fantasy|Musical|Romance'\n",
            " 'Crime|Drama|Horror|Mystery|Thriller' 'Adventure|Comedy|Family'\n",
            " 'Action|Adventure|Comedy|Fantasy' 'Comedy|Drama|Music|Musical'\n",
            " 'Adventure|Comedy|Drama|Family|Fantasy' 'Action|Comedy|Fantasy|Romance'\n",
            " 'Comedy|Romance|Sci-Fi' 'Adventure|Comedy|Mystery'\n",
            " 'Comedy|Drama|Fantasy|Romance' 'Action|Comedy|Family|Fantasy'\n",
            " 'Action|Adventure|Fantasy|Horror|Sci-Fi'\n",
            " 'Crime|Drama|History|Mystery|Thriller' 'Comedy|Drama'\n",
            " 'Adventure|Animation|Comedy|Drama|Family|Fantasy|Sci-Fi'\n",
            " 'Action|Drama|Romance|Sci-Fi|Thriller' 'Comedy|Crime|Sport'\n",
            " 'Comedy|Family|Fantasy|Romance'\n",
            " 'Action|Adventure|Crime|Drama|Sci-Fi|Thriller'\n",
            " 'Adventure|Drama|History|Romance|War' 'Comedy|Family|Sci-Fi'\n",
            " 'Fantasy|Horror|Mystery|Thriller'\n",
            " 'Adventure|Animation|Comedy|Family|Fantasy|Sci-Fi|Sport'\n",
            " 'Adventure|Comedy|Crime|Family|Mystery' 'Drama|Sci-Fi|Thriller'\n",
            " 'Action|Crime|Mystery|Romance|Thriller' 'Action|Adventure|Comedy|Romance'\n",
            " 'Adventure|Animation|Family|Western' 'Comedy|Family|Romance'\n",
            " 'Action|Adventure|Family|Sci-Fi|Thriller'\n",
            " 'Animation|Family|Fantasy|Music'\n",
            " 'Action|Adventure|Family|Fantasy|Thriller' 'Comedy|Fantasy'\n",
            " 'Action|Adventure|Comedy|Fantasy|Thriller' 'Drama|Horror|Mystery|Sci-Fi'\n",
            " 'Action|Sci-Fi|Thriller' 'Drama|History|Thriller'\n",
            " 'Adventure|Animation|Family' 'Drama|Musical|Romance' 'Documentary|Drama'\n",
            " 'Action|Adventure|Drama|History|Romance' 'Animation|Family'\n",
            " 'Adventure|Animation|Drama|Family|Musical'\n",
            " 'Animation|Comedy|Family|Fantasy|Sci-Fi'\n",
            " 'Adventure|Animation|Drama|Family|Fantasy' 'Sci-Fi|Thriller'\n",
            " 'Animation|Comedy|Family' 'Action|Crime|Fantasy|Thriller'\n",
            " 'Comedy|Drama|Family|Music|Musical|Romance' 'Horror|Mystery|Thriller'\n",
            " 'Action|Adventure|Comedy|Family|Sci-Fi' 'Comedy|Family'\n",
            " 'Biography|Comedy|Drama|History' 'Drama|Music|Musical'\n",
            " 'Crime|Drama|Mystery' 'Comedy|Crime|Music'\n",
            " 'Action|Comedy|Romance|Thriller'\n",
            " 'Animation|Comedy|Family|Fantasy|Mystery' 'Comedy|Crime|Drama|Romance'\n",
            " 'Action|Adventure|Romance|Thriller' 'Drama|History|Romance'\n",
            " 'Action|Drama|Fantasy|Romance' 'Action|Adventure|Animation|Family|Sci-Fi'\n",
            " 'Action|Drama|Sci-Fi' 'Drama|Horror|Sci-Fi|Thriller'\n",
            " 'Animation|Comedy|Fantasy' 'Action|Animation|Comedy|Family'\n",
            " 'Action|Adventure|Comedy|Romance|Thriller' 'Action|Comedy|Sport'\n",
            " 'Biography|Drama|History|War' 'Adventure|Animation|Comedy'\n",
            " 'Action|Drama|Sport' 'Adventure|Drama|Family'\n",
            " 'Drama|Mystery|Romance|Thriller'\n",
            " 'Adventure|Animation|Comedy|Family|Fantasy|Romance' 'Adventure|Drama|War'\n",
            " 'Action|Adventure|Crime|Thriller'\n",
            " 'Adventure|Drama|Fantasy|Mystery|Thriller'\n",
            " 'Fantasy|Mystery|Romance|Sci-Fi|Thriller'\n",
            " 'Drama|Fantasy|Mystery|Thriller' 'Animation|Comedy|Family|Fantasy|Music'\n",
            " 'Drama|Horror|Romance|Thriller' 'Drama|War' 'Drama'\n",
            " 'Action|Drama|Fantasy|Horror|War' 'Adventure|Family|Fantasy|Romance'\n",
            " 'Adventure|Biography|Drama|History|War' 'Action|Adventure|Horror|Sci-Fi'\n",
            " 'Action|Fantasy|Horror' 'Comedy|Drama|Musical|Romance'\n",
            " 'Action|Sci-Fi|Sport'\n",
            " 'Action|Adventure|Animation|Comedy|Crime|Family|Fantasy'\n",
            " 'Adventure|Animation|Family|Fantasy|Musical'\n",
            " 'Action|Crime|Mystery|Sci-Fi|Thriller'\n",
            " 'Action|Comedy|Crime|Drama|Thriller' 'Adventure|Drama|History|Romance'\n",
            " 'Biography|Drama|Thriller' 'Action|Drama|History|Thriller'\n",
            " 'Action|Adventure|Fantasy|War' 'Comedy|Fantasy|Romance'\n",
            " 'Action|Adventure|Comedy|Romance|Thriller|Western'\n",
            " 'Biography|Drama|Sport|War' 'Comedy|Drama|Family|Musical'\n",
            " 'Action|Adventure|Fantasy|Horror|Sci-Fi|Thriller' 'Drama|Sport'\n",
            " 'Action|Fantasy|Sci-Fi|Thriller' 'Drama|Mystery|Romance'\n",
            " 'Adventure|Biography|Drama|History|Sport|Thriller' 'Crime|Drama|Fantasy'\n",
            " 'Adventure|Biography|Crime|Drama|Western' 'Action|War'\n",
            " 'Comedy|Romance|Sport' 'Crime|Drama|Mystery|Thriller|Western'\n",
            " 'Comedy|Sport' 'Comedy|Drama|Family' 'Crime|Drama|Fantasy|Mystery'\n",
            " 'Adventure|Animation|Biography|Drama|Family|Fantasy|Musical'\n",
            " 'Drama|Romance|Western' 'Documentary|Music' 'Drama|Thriller'\n",
            " 'Animation|Family|Fantasy' 'Action|Fantasy|Horror|Sci-Fi'\n",
            " 'Biography|Comedy|Drama' 'Action|Horror|Sci-Fi' 'Adventure|Comedy'\n",
            " 'Biography|Drama|History|Sport' 'Comedy|Crime|Romance|Thriller'\n",
            " 'Comedy|Crime|Romance' 'Horror|Mystery|Sci-Fi|Thriller'\n",
            " 'Biography|Drama|Music' 'Drama|Fantasy|Sport'\n",
            " 'Adventure|Comedy|Drama|Music' 'Action|Fantasy|Horror|Sci-Fi|Thriller'\n",
            " 'Adventure|Animation|Comedy|Drama|Family|Fantasy|Romance'\n",
            " 'Horror|Sci-Fi|Thriller' 'Drama|Fantasy|Mystery|Romance|Thriller'\n",
            " 'Action|Adventure|Drama|History|Romance|War'\n",
            " 'Drama|Fantasy|Mystery|Romance' 'Fantasy|Horror|Mystery|Romance'\n",
            " 'Adventure|Comedy|Family|Romance|Sci-Fi' 'Drama|Horror|Thriller'\n",
            " 'Action|Comedy|Mystery|Romance' 'Action|Adventure|Comedy|Romance|Sci-Fi'\n",
            " 'Action|Biography|Drama|History|Thriller|War'\n",
            " 'Adventure|Comedy|Family|Fantasy|Horror' 'Comedy|Family|Romance|Sci-Fi'\n",
            " 'Action|Adventure|Thriller|War' 'Comedy|Drama|Romance|Sport'\n",
            " 'Comedy|Western' 'Action|Comedy|Crime|Drama' 'Drama|Music|Romance|War'\n",
            " 'Action|Comedy|Drama|Family|Thriller' 'Action|Crime'\n",
            " 'Adventure|Animation|Drama|Family|History|Musical|Romance'\n",
            " 'Action|Adventure|Drama|Romance|Sci-Fi'\n",
            " 'Action|Adventure|Comedy|Family|Romance'\n",
            " 'Action|Adventure|Comedy|Western' 'Biography|Drama|History|Musical'\n",
            " 'Adventure|Drama|Horror|Thriller' 'Action|Drama|Sport|Thriller'\n",
            " 'Drama|Musical|Romance|Thriller' 'Comedy|Drama|Family|Fantasy'\n",
            " 'Adventure|Comedy|Crime|Family|Musical' 'Drama|Music|Musical|Romance'\n",
            " 'Drama|Mystery|Romance|War' 'Crime|Drama|Romance'\n",
            " 'Crime|Horror|Mystery|Thriller'\n",
            " 'Adventure|Animation|Drama|Family|Fantasy|Musical|Mystery|Romance'\n",
            " 'Action|Horror|Thriller' 'Drama|History|Horror' 'Drama|Romance|Sport'\n",
            " 'Comedy|Family|Musical|Romance' 'Romance|Sci-Fi|Thriller'\n",
            " 'Biography|Comedy|Drama|Romance' 'Mystery|Sci-Fi|Thriller'\n",
            " 'Drama|Fantasy|Horror' 'Adventure|Comedy|Drama|Fantasy|Musical'\n",
            " 'Horror|Mystery' 'Action|Adventure|Family|Fantasy|Sci-Fi|Thriller'\n",
            " 'Adventure|Comedy|Family|Fantasy|Romance|Sport'\n",
            " 'Adventure|Horror|Mystery' 'Crime|Drama|Romance|Thriller'\n",
            " 'Comedy|Crime|Drama|Thriller' 'Drama|Fantasy' 'Adventure|Comedy|Drama'\n",
            " 'Action|Biography|Drama|History|War' 'Adventure|Comedy|Fantasy'\n",
            " 'Adventure|Comedy|Crime|Drama|Family'\n",
            " 'Action|Biography|Crime|Drama|Thriller' 'Comedy|Sci-Fi'\n",
            " 'Drama|Romance|Sci-Fi' 'Action|Adventure|Comedy|Crime|Music|Mystery'\n",
            " 'Comedy|Drama|Music' 'Action|Crime|Drama|Sci-Fi|Thriller'\n",
            " 'Horror|Thriller' 'Action|Adventure|Comedy|Drama|War'\n",
            " 'Drama|Mystery|Sci-Fi' 'Crime|Drama|Music'\n",
            " 'Adventure|Crime|Drama|Western' 'Comedy|Drama|Thriller'\n",
            " 'Drama|Romance|War' 'Action|Comedy|Crime|Music|Romance|Thriller'\n",
            " 'Crime|Romance|Thriller' 'Action|Adventure|Drama|Sci-Fi|Thriller'\n",
            " 'Action|Drama|Fantasy|Thriller|Western'\n",
            " 'Action|Drama|Mystery|Thriller|War' 'Biography|Crime|Drama|Thriller'\n",
            " 'Action|Comedy|Crime|Romance' 'Action|Adventure|Family|Fantasy|Sci-Fi'\n",
            " 'Adventure|Comedy|Family|Musical' 'Action|Horror'\n",
            " 'Action|Adventure|Horror|Thriller' 'Comedy|Drama|Music|Romance'\n",
            " 'Action|Crime|Drama|Romance|Thriller' 'Comedy|Family|Romance|Sport'\n",
            " 'Drama|Family|Fantasy' 'Drama|Fantasy|Musical|Romance'\n",
            " 'Adventure|Comedy|Family|Fantasy|Sci-Fi' 'Comedy|Musical'\n",
            " 'Biography|Drama|History' 'Action|Crime|Drama|Thriller|War'\n",
            " 'Comedy|Crime|Thriller' 'Drama|Fantasy|Horror|Mystery'\n",
            " 'Action|Animation|Comedy|Family|Fantasy'\n",
            " 'Biography|Drama|History|Thriller'\n",
            " 'Action|Adventure|Crime|Drama|Mystery|Thriller'\n",
            " 'Animation|Family|Fantasy|Musical' 'Adventure|Drama|Western'\n",
            " 'Biography|Drama|History|Romance' 'Drama|Horror|Mystery|Thriller'\n",
            " 'Action|Fantasy|Western' 'Comedy|War' 'Drama|Music'\n",
            " 'Action|Drama|Family|Sport' 'Action|Biography|Drama|Thriller|War'\n",
            " 'Comedy|Drama|Sport' 'Adventure|Comedy|Sci-Fi|Western'\n",
            " 'Fantasy|Horror|Romance' 'Biography|Drama|Romance'\n",
            " 'Action|Adventure|Drama|Romance|War' 'Adventure|Comedy|Crime|Romance'\n",
            " 'Comedy|Drama|Family|Fantasy|Romance' 'Horror' 'Comedy|Music'\n",
            " 'Action|Adventure|Drama|Romance|Thriller' 'Biography|Drama|Music|Musical'\n",
            " 'Drama|History' 'Comedy|Music|Romance'\n",
            " 'Action|Adventure|Crime|Fantasy|Mystery|Thriller'\n",
            " 'Adventure|Drama|Mystery' 'Biography|Crime|Drama|Music'\n",
            " 'Crime|Drama|Horror|Thriller'\n",
            " 'Adventure|Animation|Comedy|Drama|Family|Fantasy|Musical'\n",
            " 'Action|Adventure|Comedy|Music|Thriller'\n",
            " 'Adventure|Animation|Comedy|Crime|Family'\n",
            " 'Comedy|Romance|Sci-Fi|Thriller' 'Comedy|Crime|Family|Romance'\n",
            " 'Crime|Horror|Thriller' 'Action|Horror|Mystery|Sci-Fi|Thriller'\n",
            " 'Comedy|Fantasy|Sci-Fi' 'Adventure|Animation|Comedy|Fantasy|Romance'\n",
            " 'Action|Adventure|Family|Thriller'\n",
            " 'Adventure|Comedy|Drama|Romance|Thriller|War'\n",
            " 'Adventure|Animation|Comedy|Fantasy|Music|Romance' 'Action|Drama|Fantasy'\n",
            " 'Action|Adventure|Drama|Fantasy|War' 'Drama|Fantasy|Romance|Sci-Fi'\n",
            " 'Animation|Comedy|Family|Horror|Sci-Fi' 'Biography|Drama|Romance|Sport'\n",
            " 'Action|Biography|Drama' 'Adventure|Drama' 'Horror|Mystery|Sci-Fi'\n",
            " 'Action|Adventure|Drama|Thriller|Western'\n",
            " 'Adventure|Family|Fantasy|Sci-Fi' 'Adventure|Comedy|History|Romance'\n",
            " 'Action|Biography|Drama|Sport' 'Drama|Family'\n",
            " 'Action|Adventure|Crime|Drama|Family|Fantasy|Romance|Thriller'\n",
            " 'Biography|Comedy|Romance' 'Action|Biography|Drama|History'\n",
            " 'Biography|Drama|War' 'Adventure|Comedy|Family|Sci-Fi'\n",
            " 'Biography|Drama|Family|History|Sport'\n",
            " 'Biography|Comedy|Drama|History|Music' 'Fantasy|Horror'\n",
            " 'Comedy|Drama|Family|Sport' 'Comedy|Drama|Romance|Sci-Fi'\n",
            " 'Adventure|Animation|Comedy|Family|War' 'Action|Comedy|Sci-Fi|Thriller'\n",
            " 'Comedy|Horror' 'Drama|Thriller|War' 'Action|Western'\n",
            " 'Action|Adventure|Family|Sci-Fi' 'Adventure|Biography|Drama|Thriller'\n",
            " 'Drama|Romance|War|Western' 'Action|Comedy|Crime|Western'\n",
            " 'Action|Adventure|Comedy|Drama|Thriller' 'Drama|Music|Romance'\n",
            " 'Action|Adventure|Crime|Drama|Thriller' 'Adventure|Comedy|Family|Sport'\n",
            " 'Comedy|Drama|Fantasy' 'Comedy|Family|Sport'\n",
            " 'Action|Adventure|Drama|Family' 'Action|Comedy|War' 'Drama|Family|Sport'\n",
            " 'Action|Thriller|Western' 'Action|Drama|Fantasy|Horror|Thriller'\n",
            " 'Animation|Comedy|Family|Fantasy|Musical'\n",
            " 'Action|Adventure|Comedy|Fantasy|Romance'\n",
            " 'Action|Crime|Drama|Mystery|Sci-Fi|Thriller'\n",
            " 'Adventure|Comedy|Crime|Drama' 'Drama|Mystery'\n",
            " 'Comedy|Fantasy|Horror|Thriller' 'Crime|Drama|Mystery|Sci-Fi|Thriller'\n",
            " 'Comedy|Crime|Musical' 'Comedy|Drama|Family|Music|Romance'\n",
            " 'Comedy|Horror|Romance' 'Comedy|Family|Fantasy|Sport'\n",
            " 'Animation|Comedy|Family|Mystery|Sci-Fi'\n",
            " 'Adventure|Comedy|Drama|Family|Sport'\n",
            " 'Animation|Drama|Family|Fantasy|Musical|Romance'\n",
            " 'Comedy|Horror|Musical|Sci-Fi' 'Crime|Drama|Sport'\n",
            " 'Action|Adventure|Animation|Drama|Mystery|Sci-Fi|Thriller'\n",
            " 'Action|Adventure|Crime|Drama|Romance' 'Action|Comedy|Horror'\n",
            " 'Adventure|Horror|Thriller' 'Adventure|Fantasy|Mystery'\n",
            " 'Action|Drama|Romance|Sport' 'Biography|Crime|Drama|History|Western'\n",
            " 'Action|Biography|Crime|Drama' 'Adventure|Animation|Fantasy'\n",
            " 'Adventure|Animation|Comedy|Fantasy' 'Biography|Drama|Music|Romance'\n",
            " 'Adventure|Drama|Mystery|Sci-Fi|Thriller'\n",
            " 'Biography|Comedy|Crime|Drama|Romance|Thriller'\n",
            " 'Biography|Crime|Drama|History|Music'\n",
            " 'Adventure|Animation|Comedy|Drama|Family|Musical'\n",
            " 'Biography|Comedy|Drama|Music|Romance' 'Adventure|Animation|Sci-Fi'\n",
            " 'Drama|Romance|Thriller' 'Action|Fantasy|Horror|Thriller'\n",
            " 'Adventure|Biography' 'Action|Comedy|Family' 'Action|Horror|Romance'\n",
            " 'Adventure|Drama|History|Romance|Thriller|War'\n",
            " 'Crime|Drama|Sci-Fi|Thriller' 'Action|Comedy|Crime|Music'\n",
            " 'Comedy|Drama|Family|Romance'\n",
            " 'Action|Drama|Fantasy|Mystery|Sci-Fi|Thriller'\n",
            " 'Adventure|Family|Fantasy|Horror|Mystery'\n",
            " 'Action|Crime|Drama|History|Western' 'Comedy|Crime|Drama'\n",
            " 'Comedy|Family|Fantasy|Music|Romance' 'Adventure|Comedy|Crime|Music'\n",
            " 'Action|Adventure|Comedy|Sci-Fi|Thriller' 'Action|Crime|Drama|Western'\n",
            " 'Action|Adventure|Comedy|Family|Romance|Sci-Fi'\n",
            " 'Action|Fantasy|Romance|Sci-Fi' 'Comedy|Crime|Mystery|Romance'\n",
            " 'Adventure|Family' 'Action|Drama|Music|Romance'\n",
            " 'Adventure|Comedy|Family|Fantasy|Horror|Mystery'\n",
            " 'Adventure|Fantasy|Mystery|Thriller'\n",
            " 'Action|Biography|Drama|History|Romance|Western' 'Fantasy|Horror|Mystery'\n",
            " 'Biography|Drama|Family'\n",
            " 'Action|Adventure|Comedy|Crime|Family|Romance|Thriller'\n",
            " 'Comedy|Fantasy|Horror|Romance' 'Comedy|Family|Music'\n",
            " 'Action|Comedy|Music' 'Adventure|Comedy|Crime'\n",
            " 'Biography|Comedy|Drama|Sport' 'Fantasy|Horror|Thriller'\n",
            " 'Comedy|Drama|Romance|Thriller' 'Adventure|Comedy|Family|Romance'\n",
            " 'Adventure|Family|Fantasy|Musical'\n",
            " 'Biography|Crime|Drama|History|Thriller'\n",
            " 'Action|Animation|Comedy|Family|Fantasy|Sci-Fi' 'Crime|Drama|History'\n",
            " 'Biography|Drama|Thriller|War' 'Drama|Music|Mystery|Romance|Thriller'\n",
            " 'Action|Adventure|Fantasy|Horror' 'Crime|Drama|Mystery|Romance'\n",
            " 'Action|Adventure|History|Romance' 'Action|Drama|Western'\n",
            " 'Adventure|Comedy|Family|Fantasy|Music|Sci-Fi'\n",
            " 'Adventure|Family|Fantasy|Music|Musical'\n",
            " 'Action|Adventure|Animation|Comedy|Fantasy'\n",
            " 'Adventure|Comedy|Horror|Sci-Fi' 'Horror|Sci-Fi'\n",
            " 'Biography|Comedy|Drama|Family|Sport'\n",
            " 'Action|Crime|Drama|Thriller|Western' 'Action|Drama|History'\n",
            " 'Drama|Fantasy|Romance|Thriller' 'Thriller' 'Comedy|Mystery'\n",
            " 'Comedy|Drama|Musical|Romance|War' 'Drama|History|Music|Romance|War'\n",
            " 'Comedy|History' 'Adventure|Animation|Family|Sport'\n",
            " 'Animation|Comedy|Fantasy|Musical' 'Game-Show|Reality-TV|Romance'\n",
            " 'Action|Comedy|Documentary' 'Adventure|Comedy|Drama|Family|Romance'\n",
            " 'Adventure|Comedy|Drama|Family|Mystery' 'Drama|Family|Music|Romance'\n",
            " 'Fantasy|Romance' 'Adventure|Animation|Family|Musical'\n",
            " 'Animation|Comedy|Drama|Family|Musical' 'Biography|Crime|Drama|History'\n",
            " 'Adventure|Comedy|Fantasy|Music|Sci-Fi'\n",
            " 'Comedy|Drama|Musical|Romance|Western' 'Action|Adventure|Drama|Mystery'\n",
            " 'Comedy|Crime|Family|Mystery|Romance|Thriller'\n",
            " 'Action|Adventure|Drama|Romance|Western'\n",
            " 'Adventure|Crime|Mystery|Sci-Fi|Thriller' 'Crime|Drama|Western'\n",
            " 'Adventure|Comedy|Drama|Fantasy' 'Adventure|Biography|Drama'\n",
            " 'Adventure|Drama|Horror|Mystery|Thriller' 'Crime|Fantasy|Horror'\n",
            " 'Animation|Family|Fantasy|Mystery' 'Action|Comedy|Crime|Fantasy'\n",
            " 'Comedy|Family|Music|Musical' 'Crime|Documentary|News'\n",
            " 'Drama|Mystery|Romance|Thriller|War' 'Action|Crime|Drama|Sport'\n",
            " 'Comedy|Drama|Music|War' 'Comedy|Musical|Romance'\n",
            " 'Comedy|Drama|Music|Musical|Romance' 'Comedy|Crime|Drama|Mystery|Romance'\n",
            " 'Biography|Comedy|Drama|History|Music|Musical'\n",
            " 'Animation|Drama|Mystery|Sci-Fi|Thriller'\n",
            " 'Adventure|Comedy|Drama|Romance'\n",
            " 'Comedy|Drama|Mystery|Romance|Thriller|War' 'Biography|Comedy|Musical'\n",
            " 'Action|Adventure|Animation|Family|Sci-Fi|Thriller'\n",
            " 'Crime|Drama|Mystery|Romance|Thriller' 'Comedy|Family|Fantasy|Sci-Fi'\n",
            " 'Action|Comedy|Crime|Fantasy|Horror|Mystery|Sci-Fi|Thriller'\n",
            " 'Romance|Short' 'Animation' 'Drama|Horror'\n",
            " 'Comedy|Drama|Reality-TV|Romance' 'Adventure|Comedy|Romance'\n",
            " 'Family|Fantasy|Music' 'Crime|Drama|Music|Thriller'\n",
            " 'Action|Drama|Fantasy|Mystery|Thriller' 'Biography|Drama|History|Music'\n",
            " 'Biography|Drama|Family|Sport' 'Comedy|Drama|War'\n",
            " 'Biography|Drama|Romance|War' 'Action|Horror|Romance|Sci-Fi|Thriller'\n",
            " 'Music' 'Action|Drama|History|Romance|War|Western'\n",
            " 'Action|Animation|Sci-Fi|Thriller' 'Action|Animation|Comedy|Crime|Family'\n",
            " 'Drama|Family|Music|Musical' 'Drama|Family|Musical|Romance'\n",
            " 'Comedy|Drama|Family|Fantasy|Sci-Fi' 'Comedy|Crime|Drama|Music|Romance'\n",
            " 'Adventure|Comedy|Family|Fantasy|Musical' 'Adventure|Crime|Drama|Romance'\n",
            " 'Comedy|Mystery|Sci-Fi|Thriller' 'Sci-Fi' 'Drama|Fantasy|War'\n",
            " 'Action|Comedy|Crime|Family' 'Action|Comedy|Mystery'\n",
            " 'Comedy|Crime|Mystery' 'Action|Crime|Sci-Fi' 'Comedy|Horror|Sci-Fi'\n",
            " 'Action|Comedy|Drama|Thriller' 'Drama|Family|Romance'\n",
            " 'Adventure|Comedy|Family|Music|Romance' 'Comedy|Horror|Thriller'\n",
            " 'Comedy|Family|Music|Romance' 'Adventure|Fantasy|Horror|Mystery|Thriller'\n",
            " 'Crime|Drama|Musical|Romance' 'Family|Music|Romance'\n",
            " 'Drama|Fantasy|Mystery|Sci-Fi' 'Biography|Drama|History|Thriller|War'\n",
            " 'Adventure|Crime|Drama|Mystery|Western' 'Drama|Fantasy|Horror|Romance'\n",
            " 'Comedy|Crime|Drama|Thriller|War'\n",
            " 'Action|Adventure|Drama|History|Thriller|War' 'Action|Comedy|Drama|War'\n",
            " 'Comedy|Drama|Fantasy|Music|Romance' 'Biography|Drama|Fantasy|History'\n",
            " 'Biography' 'Drama|Family|Music' 'Adventure|Mystery|Thriller'\n",
            " 'Comedy|Mystery|Romance' 'Biography|Crime|Drama|War'\n",
            " 'Crime|Drama|Music|Mystery|Thriller' 'Biography|Comedy|Drama|War'\n",
            " 'Comedy|Crime|Family|Sci-Fi' 'Adventure|Family|Sci-Fi'\n",
            " 'Adventure|Comedy|Romance|Sci-Fi' 'Action|Adventure|Comedy|Family'\n",
            " 'Biography|Comedy|Crime|Drama|Romance' 'Crime|Drama|Musical'\n",
            " 'Animation|Comedy|Crime|Drama|Family'\n",
            " 'Action|Adventure|Comedy|Fantasy|Mystery'\n",
            " 'Action|Adventure|Drama|Thriller|War' 'Crime|Drama|Music|Romance'\n",
            " 'Adventure|Animation|Comedy|Crime' 'Adventure|Comedy|Fantasy|Sci-Fi'\n",
            " 'Comedy|Drama|Family|Fantasy|Musical'\n",
            " 'Action|Adventure|Biography|Drama|History' 'Comedy|Crime|Family'\n",
            " 'Adventure|Drama|Thriller|War' 'Comedy|Drama|Horror|Sci-Fi'\n",
            " 'Adventure|Crime|Thriller' 'Mystery|Romance|Sci-Fi|Thriller'\n",
            " 'Fantasy|Mystery|Thriller' 'Family|Musical'\n",
            " 'Adventure|Crime|Drama|Mystery|Thriller' 'Drama|Fantasy|Music|Romance'\n",
            " 'Adventure|Drama|History|War' 'Family|Sci-Fi'\n",
            " 'Drama|History|Romance|Western' 'Adventure|Comedy|Music|Sci-Fi'\n",
            " 'Drama|Family|Musical' 'Action|Comedy|Drama|Music'\n",
            " 'Fantasy|Horror|Sci-Fi' 'Western' 'Comedy|Romance|Thriller'\n",
            " 'Biography|Crime|Drama|Romance' 'Adventure|Comedy|Drama|Romance|Sci-Fi'\n",
            " 'Drama|Music|Mystery|Romance' 'Action|Crime|Drama'\n",
            " 'Adventure|Biography|Drama|War' 'Action|Comedy|Drama'\n",
            " 'Adventure|Animation' 'Comedy|Drama|Horror|Romance'\n",
            " 'Action|Comedy|Drama|Western' 'Comedy|Crime|Drama|Mystery'\n",
            " 'Adventure|Animation|Fantasy|Horror|Sci-Fi'\n",
            " 'Action|Drama|Romance|Thriller' 'Biography|Comedy|Drama|Family|Romance'\n",
            " 'Action|Biography|Drama|History|Romance|War'\n",
            " 'Action|Animation|Fantasy|Horror|Mystery|Sci-Fi|Thriller'\n",
            " 'Action|Adventure|Animation|Drama|Fantasy|Sci-Fi' 'Horror|Musical|Sci-Fi'\n",
            " 'Biography|Drama|Family|Musical|Romance'\n",
            " 'Comedy|Crime|Drama|Romance|Thriller' 'Adventure|Drama|Fantasy|Mystery'\n",
            " 'Animation|Comedy|Drama|Romance' 'Comedy|Crime|Musical|Romance'\n",
            " 'Comedy|Crime|Musical|Mystery' 'Action|Animation|Sci-Fi'\n",
            " 'Drama|War|Western' 'Drama|Romance|Sci-Fi|Thriller'\n",
            " 'Animation|Biography|Drama|War' 'Adventure|Fantasy|Thriller'\n",
            " 'Documentary|Sport' 'Crime|Horror' 'Adventure|Biography|Drama|History'\n",
            " 'Action|Crime|Horror|Sci-Fi|Thriller' 'Comedy|Fantasy|Horror|Mystery'\n",
            " 'Action|Adventure|Animation|Comedy|Drama|Family|Fantasy|Thriller'\n",
            " 'Action|Adventure|Drama|Fantasy|Sci-Fi' 'Drama|Mystery|War'\n",
            " 'Action|Comedy|Crime|Drama|Romance|Thriller' 'Comedy|Drama|Musical'\n",
            " 'Mystery|Romance|Thriller' 'Adventure|Comedy|Drama|Family'\n",
            " 'Action|Adventure|Drama|Western' 'Musical|Romance'\n",
            " 'Documentary|Drama|War' 'Biography|Crime|Drama|Western'\n",
            " 'Comedy|Family|Fantasy|Musical' 'Crime|Drama|Musical|Romance|Thriller'\n",
            " 'Fantasy|Horror|Romance|Thriller' 'Adventure|Documentary|Short'\n",
            " 'Adventure|Crime|Drama|Thriller' 'Thriller|War' 'Action|Sport' 'Musical'\n",
            " 'Mystery|Western' 'Comedy|Drama|History|Romance'\n",
            " 'Comedy|Horror|Sci-Fi|Thriller' 'Drama|Horror|Mystery|Sci-Fi|Thriller'\n",
            " 'Comedy|Documentary' 'Adventure|Drama|Family|Fantasy|Sci-Fi'\n",
            " 'Adventure|Drama|Family|Romance|Western' 'Adventure|Horror'\n",
            " 'Comedy|Music|Sci-Fi' 'Biography|Crime|Drama|Romance|Thriller'\n",
            " 'Comedy|Crime|Drama|Mystery|Thriller'\n",
            " 'Biography|Crime|Drama|Mystery|Thriller' 'Crime|Horror|Music|Thriller'\n",
            " 'Crime|Documentary|War' 'Crime|Thriller|War'\n",
            " 'Comedy|Crime|Horror|Thriller' 'Animation|Comedy' 'Family'\n",
            " 'Comedy|Drama|Romance|War' 'Biography|Drama|Romance|Western'\n",
            " 'Drama|Musical' 'Adventure|Comedy|Western'\n",
            " 'Action|Drama|History|Thriller|War' 'Fantasy|Thriller'\n",
            " 'Drama|Horror|Mystery' 'Adventure|Drama|History|Thriller|War'\n",
            " 'Comedy|Documentary|Drama|Fantasy|Mystery|Sci-Fi'\n",
            " 'Crime|Drama|Fantasy|Romance' 'Action|Crime|Horror|Thriller'\n",
            " 'Comedy|Horror|Mystery' 'Drama|Family|History|Musical'\n",
            " 'Adventure|Biography|Drama|Romance' 'Adventure|War|Western'\n",
            " 'Biography|Comedy|Musical|Romance|Western'\n",
            " 'Adventure|Comedy|Musical|Romance' 'Comedy|Drama|Romance|Western'\n",
            " 'Action|Adventure|Comedy|Musical' 'Comedy|Drama|Fantasy|Horror'\n",
            " 'Action|Biography|Crime|Drama|Family|Fantasy'\n",
            " 'Action|Animation|Crime|Sci-Fi|Thriller' 'Action|Comedy|Horror|Thriller'\n",
            " 'Crime|Documentary|Drama' 'Biography|Comedy|Documentary'\n",
            " 'Comedy|Thriller' 'Comedy|Documentary|Music'\n",
            " 'Action|Adventure|Romance|Western' 'Crime|Drama|History|Romance'\n",
            " 'Family|Fantasy|Musical' 'Comedy|Drama|Horror' 'Drama|Family|Western'\n",
            " 'Comedy|Drama|Horror|Sci-Fi|Thriller' 'Drama|Horror|Romance'\n",
            " 'Adventure|Crime|Drama' 'Action|Adventure|Crime|Drama'\n",
            " 'Adventure|Family|Sport' 'Romance'\n",
            " 'Action|Adventure|Animation|Comedy|Sci-Fi' 'Drama|Fantasy|Romance|War'\n",
            " 'Documentary|History|Sport' 'Action|Drama|Horror|Thriller'\n",
            " 'Comedy|Crime|Drama|Sci-Fi' 'Comedy|Family|Musical|Romance|Short'\n",
            " 'Comedy|Documentary|War' 'Comedy|Drama|Mystery|Romance|Thriller'\n",
            " 'Action|Comedy|Horror|Sci-Fi' 'Adventure|Drama|Romance|Western'\n",
            " 'Animation|Comedy|Drama' 'Adventure|Documentary|Drama|Sport'\n",
            " 'Crime|Documentary' 'Animation|Biography|Documentary|Drama|History|War'\n",
            " 'Documentary|War' 'Documentary|History' 'Biography|Documentary|History'\n",
            " 'Action|Adventure|Comedy|Drama|Music|Sci-Fi'\n",
            " 'Biography|Comedy|Drama|Music' 'Animation|Comedy|Family|Romance'\n",
            " 'Horror|Romance|Sci-Fi' 'Action|Comedy|Fantasy|Horror'\n",
            " 'Crime|Drama|Film-Noir|Mystery|Thriller' 'Comedy|Fantasy|Musical|Sci-Fi'\n",
            " 'Action|Adventure|History|Western' 'Documentary|Drama|History|News'\n",
            " 'Biography|Crime|Documentary|History|Thriller' 'Crime|Drama|Film-Noir'\n",
            " 'Film-Noir|Mystery|Romance|Thriller' 'Comedy|Crime|Sci-Fi|Thriller'\n",
            " 'Adventure|Comedy|Horror' 'Action|Crime|Drama|Mystery'\n",
            " 'Horror|Romance|Thriller' 'Drama|Film-Noir|Mystery|Thriller'\n",
            " 'Drama|Film-Noir' 'Crime|Film-Noir|Thriller'\n",
            " 'Action|Adventure|Romance|War' 'Action|Horror|Mystery|Thriller'\n",
            " 'Adventure|Comedy|Sport' 'Comedy|Horror|Musical'\n",
            " 'Adventure|Comedy|History' 'Action|Drama|Romance|War'\n",
            " 'Biography|Documentary|Music' 'Comedy|Fantasy|Mystery'\n",
            " 'Biography|Crime|Documentary|History'\n",
            " 'Adventure|Biography|Documentary|Drama'\n",
            " 'Action|Adventure|Comedy|Fantasy|Sci-Fi' 'Drama|Musical|Sci-Fi'\n",
            " 'Documentary|News' 'Comedy|Fantasy|Thriller' 'Animation|Drama|Family'\n",
            " 'Drama|Fantasy|Sci-Fi' 'Action|Comedy|Drama|Sci-Fi'\n",
            " 'Action|Adventure|Drama|War' 'Horror|Sci-Fi|Short|Thriller'\n",
            " 'Action|Adventure|Animation|Comedy|Fantasy|Sci-Fi' 'Thriller|Western'\n",
            " 'Documentary|Drama|Sport' 'Documentary|History|Music'\n",
            " 'Biography|Documentary|Drama' 'Adventure|Family|Romance'\n",
            " 'Adventure|Biography|Drama|Horror|Thriller' 'Documentary|Family|Music'\n",
            " 'Biography|Documentary|Sport' 'History' 'Action|Romance|Sport'\n",
            " 'Horror|Musical' 'Comedy|Mystery|Thriller'\n",
            " 'Action|Biography|Documentary|Sport' 'Comedy|Fantasy|Horror|Musical'\n",
            " 'Drama|Fantasy|Sci-Fi|Thriller' 'Biography|Documentary' 'Animation|Drama'\n",
            " 'Action|Fantasy|Horror|Mystery|Thriller' 'Action|Comedy|Sci-Fi|Sport'\n",
            " 'Comedy|Crime|Drama|Horror|Mystery|Thriller'\n",
            " 'Action|Adventure|Mystery|Romance|Thriller'\n",
            " 'Animation|Comedy|Drama|Fantasy|Sci-Fi' 'Action|Drama|Fantasy|Sci-Fi'\n",
            " 'Comedy|Short' 'Adventure|Drama|Fantasy|Thriller|Western'\n",
            " 'Adventure|Horror|Sci-Fi' 'Comedy|Drama|History|Musical|Romance'\n",
            " 'Comedy|Horror|Mystery|Thriller' 'Drama|Music|Mystery|Romance|Sci-Fi'\n",
            " 'Adventure|Documentary' 'Documentary|Family'\n",
            " 'Comedy|Crime|Drama|Horror|Thriller' 'Comedy|Documentary|Drama'\n",
            " 'Crime|Drama|Horror' 'Comedy|Crime|Horror']\n"
          ]
        }
      ],
      "source": [
        "print(df1['genres'].unique()) "
      ]
    },
    {
      "cell_type": "code",
      "execution_count": 82,
      "metadata": {},
      "outputs": [],
      "source": [
        "df1['genres'] = label_encoder.fit_transform(df1['genres'])\n"
      ]
    },
    {
      "cell_type": "code",
      "execution_count": 83,
      "metadata": {},
      "outputs": [
        {
          "name": "stdout",
          "output_type": "stream",
          "text": [
            "[106 100 127 287 753 125 119 307 446   1 129  90  36 452  71 442  78 846\n",
            " 126 105 107 304 314 220 114 329 165 494 205 303   8 414 192 104  52 649\n",
            " 298 412  68  91  83 120  96   4 313 325 282 434  76 792 463  85 233  22\n",
            " 221 821 369 476   5 306 903 297   7 667 785 253 291 180  35  19 570 237\n",
            "  66   6 240  54  20  75 419 483 201 438 316 279 464 309 215  95 432 331\n",
            " 259 134 177 868 311  64 110   0 416 268  25 461 250 218 258 638 187 117\n",
            " 255 435  34 751 163 543 164  56 231 485 118 249 216  24 564 278 502 569\n",
            " 121 696 243 528 525 194 153 241 861 496  37 281 261 436 505 285 854  15\n",
            " 209 395 219  23 189 254 844 108 712 807 489 702 812 312 770 799 838 813\n",
            "  14 378 783 488 363  29 741 327 152 735 421  16 305 811 135 650 843 276\n",
            " 749  28 644 257 809 431 484 479 722 368  41 631 357 179 697 392 619 176\n",
            " 102 719 605 301 244 598 653  61 424 664 872 310 352 855 213  48 332 661\n",
            "  98 500  94 666  45 816 284 810 324 826 754  72 498 323 481 320 909 475\n",
            " 210 612 890  40 648 512 829 731 589 188 480 578 122 806 228  17 248 822\n",
            " 490 131  50 193 556 294 251 411 839 308 439  65 418 877 791 477 820 859\n",
            " 767 225 447 342 113 260 628 283   2 326 214 156 422 566 235 109 674  51\n",
            " 565 611 103 856 267 837 341 713 337 289 699 736 704 606 714 293 853 763\n",
            " 857 499 263 509 275 347 553 596 595 889 557 798 364 264 300 895 789  73\n",
            " 788 871 380 823 186  49 148 370 662 128 640 707 154 835 169 196 322  79\n",
            "  38  55 551 428 252 827 607 351 830 841 737 747 321 277 804 849 657 906\n",
            " 517 902 781 362 887  93 374 458 738 581 780 355 149 383 350 142 701 847\n",
            "  27 626 203 896  32 842 724 404 646 851 161 750  84 230 242 535 162  92\n",
            " 376 270 115 633 202 663 769 786 375 688 549 206 599 782 132 554  59 501\n",
            " 440 552 818 269 706 824 222 151 645 396 873 560  81 354 609 884 687  80\n",
            " 558 803 690  63 429 531 723 299  47 296 698 585 748 271 675 319  99 367\n",
            " 318 223  70 793 482 561 144 410 888  87 448 387 150 768  58 522 145 568\n",
            " 381 545 513 869 615 639 315 191 678 858 290  97 345 852 166  31 834  62\n",
            " 382 616 665  67 195 778 288 224 478  43 200 349 836 671 734 590 613 683\n",
            " 655 486 360 495 680 740  13  60 181 460 454 245 530 140 333 317 559 430\n",
            " 507 527 302 516 335 850 265 336 175 273 423 739 160 614 226 443 198 571\n",
            " 652 353  53 208  39 266 594 441 239 371 455 147 870 544  26 670 656 184\n",
            " 348 518 876 641 379 444 529 133 718 567 833 101 732 111 256 373 445   9\n",
            " 389 893 511 207 232 794 910 692 629 805 677 330 491 882 167 359 358 776\n",
            " 879 328 472 526 384 630  77 584  82 405 742 361 339 427 743 503 158 659\n",
            " 710 840 204 634 689 632 576 514 497 365 636 520  18 733 654 159 907 466\n",
            " 814 637 393 863 730 227 550 547 647 562 274 897 234 139 130 775 774 610\n",
            " 574 372 402 694 908 800 157 185 593 217 684 172 777 377 686 660 453 726\n",
            " 866 790 555 401 784 582  74 173 618 548 504 772 462 693 536 728 519 586\n",
            " 450 394  33 506 725 470  42  86 729 295 385 608  21 583 437 624 406 900\n",
            " 878 865 400 787 426 867 808 391 773 170 875 913 700 533 366 831 197 346\n",
            " 168 292 623 174 575 334 246 510 146 137  12 886 546 579 417 474 592 591\n",
            " 138 860 848 468 456 765 745 340 211 669   3  69 845 155 627 901 356  89\n",
            " 899 757 537 651 727 874 409 403 911 286 898 904 621 685 817 600 413 415\n",
            " 457 691 534 577 532 746 711 752 588 469 862 642 563 825 398 236 880 815\n",
            " 425 602 715 212 681 771 344 465 521 390 643  46 617 141 136 183 709 508\n",
            " 705 603 124 720 864 622 779 625 819 399  57 451 905  11 795 762 238 580\n",
            " 658 604 635 182 433 471 408 708 467 766 760 540  30 515 487 891 178 717\n",
            " 672 112 755 524 716 881 597 388 199 892 802 801 744 123 272 397 679 386\n",
            " 247 541 673 523 338  44 828 764 676 493 796 171  88 894  10 912 756 761\n",
            " 539 449 343 759 542 883 280 885 695 143 668 797 538 492 262 190 572 116\n",
            " 473 229 703 420 459 620 682 832 407 758 573 601 721 587]\n"
          ]
        }
      ],
      "source": [
        "print(df1['genres'].unique()) #each value represent unique genres in dataset"
      ]
    },
    {
      "cell_type": "code",
      "execution_count": 84,
      "metadata": {},
      "outputs": [
        {
          "name": "stdout",
          "output_type": "stream",
          "text": [
            "['Action|Drama|Family|Sport']\n"
          ]
        },
        {
          "name": "stderr",
          "output_type": "stream",
          "text": [
            "c:\\Users\\cyril\\AppData\\Local\\Programs\\Python\\Python311\\Lib\\site-packages\\sklearn\\preprocessing\\_label.py:155: DataConversionWarning: A column-vector y was passed when a 1d array was expected. Please change the shape of y to (n_samples, ), for example using ravel().\n",
            "  y = column_or_1d(y, warn=True)\n"
          ]
        }
      ],
      "source": [
        "print(label_encoder.inverse_transform(np.array([222]).reshape(-1,1)))"
      ]
    },
    {
      "cell_type": "code",
      "execution_count": 85,
      "metadata": {},
      "outputs": [],
      "source": [
        "df1['language'] = label_encoder.fit_transform(df1[\"language\"])"
      ]
    },
    {
      "cell_type": "code",
      "execution_count": 87,
      "metadata": {},
      "outputs": [
        {
          "name": "stdout",
          "output_type": "stream",
          "text": [
            "['Japanese']\n"
          ]
        },
        {
          "name": "stderr",
          "output_type": "stream",
          "text": [
            "c:\\Users\\cyril\\AppData\\Local\\Programs\\Python\\Python311\\Lib\\site-packages\\sklearn\\preprocessing\\_label.py:155: DataConversionWarning: A column-vector y was passed when a 1d array was expected. Please change the shape of y to (n_samples, ), for example using ravel().\n",
            "  y = column_or_1d(y, warn=True)\n"
          ]
        }
      ],
      "source": [
        "\n",
        "print(label_encoder.inverse_transform(np.array([22]).reshape(-1,1)))"
      ]
    },
    {
      "cell_type": "code",
      "execution_count": 88,
      "metadata": {},
      "outputs": [],
      "source": [
        "\n",
        "director_facebook_likes =300\n",
        "actor_3_facebook_likes = 3\n",
        "actor_1_facebook_likes = 800\n",
        "genres = 222\n",
        "num_voted_users = 600\n",
        "cast_total_facebook_likes = 800\n",
        "num_user_for_reviews =500\n",
        "language =22\n",
        "budget = 1756983\n",
        "actor_2_facebook_likes = 400\n",
        "imdb_score = 8\n",
        "movie_facebook_likes = 500"
      ]
    },
    {
      "cell_type": "code",
      "execution_count": 89,
      "metadata": {},
      "outputs": [],
      "source": [
        "sample = np.array([ director_facebook_likes , actor_3_facebook_likes , actor_1_facebook_likes ,genres, num_voted_users , cast_total_facebook_likes ,num_user_for_reviews ,language ,budget ,actor_2_facebook_likes,imdb_score, movie_facebook_likes   ]).reshape(1, -1)"
      ]
    },
    {
      "cell_type": "code",
      "execution_count": 90,
      "metadata": {},
      "outputs": [
        {
          "name": "stderr",
          "output_type": "stream",
          "text": [
            "c:\\Users\\cyril\\AppData\\Local\\Programs\\Python\\Python311\\Lib\\site-packages\\sklearn\\base.py:420: UserWarning: X does not have valid feature names, but AdaBoostRegressor was fitted with feature names\n",
            "  warnings.warn(\n"
          ]
        }
      ],
      "source": [
        "y_pred = model.predict(sample)"
      ]
    },
    {
      "cell_type": "code",
      "execution_count": 91,
      "metadata": {},
      "outputs": [
        {
          "name": "stdout",
          "output_type": "stream",
          "text": [
            "[18751273.325]\n"
          ]
        }
      ],
      "source": [
        "print(y_pred)"
      ]
    }
  ],
  "metadata": {
    "colab": {
      "collapsed_sections": [
        "Jz3KfnJgQ_wh",
        "56-wMhLSRFDQ",
        "BPz9jeJARMq4",
        "B4NCJ4mkRP4J",
        "W11EuvT3RWAY",
        "kRfpGPsdRagY",
        "uAj2A425UgSa",
        "AE6KMeQ-Uh1Q",
        "dGUz-CLcRjE4",
        "I8P1SZc3UR8p",
        "THw4m57sRqnK",
        "6HncAsArUBDT",
        "of3-OSd2UG_V",
        "kEQVAcO2RwT_",
        "6VkC3URVItLn",
        "AadMj-tdJFH2",
        "kMhDr1AjR5Xg",
        "Ef_aXHHhSo4R",
        "WX-XxU8fb_iX",
        "sxjPh14AS1DP",
        "LwjFcuyySPOZ"
      ],
      "provenance": []
    },
    "gpuClass": "standard",
    "kernelspec": {
      "display_name": "Python 3",
      "language": "python",
      "name": "python3"
    },
    "language_info": {
      "codemirror_mode": {
        "name": "ipython",
        "version": 3
      },
      "file_extension": ".py",
      "mimetype": "text/x-python",
      "name": "python",
      "nbconvert_exporter": "python",
      "pygments_lexer": "ipython3",
      "version": "3.11.1"
    },
    "orig_nbformat": 4
  },
  "nbformat": 4,
  "nbformat_minor": 0
}
